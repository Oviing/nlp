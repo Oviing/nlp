{
  "nbformat": 4,
  "nbformat_minor": 0,
  "metadata": {
    "colab": {
      "name": "sarcasm_main.ipynb",
      "provenance": [],
      "collapsed_sections": [],
      "authorship_tag": "ABX9TyNMoaCfQIU2+rQ2r1yAGyeD",
      "include_colab_link": true
    },
    "kernelspec": {
      "name": "python3",
      "display_name": "Python 3"
    },
    "language_info": {
      "name": "python"
    },
    "accelerator": "GPU"
  },
  "cells": [
    {
      "cell_type": "markdown",
      "metadata": {
        "id": "view-in-github",
        "colab_type": "text"
      },
      "source": [
        "<a href=\"https://colab.research.google.com/github/Oviing/nlp/blob/main/sarcasm_main.ipynb\" target=\"_parent\"><img src=\"https://colab.research.google.com/assets/colab-badge.svg\" alt=\"Open In Colab\"/></a>"
      ]
    },
    {
      "cell_type": "code",
      "metadata": {
        "id": "XB2ImK5_hE4S"
      },
      "source": [
        "import tensorflow as tf\n",
        "import numpy as np\n",
        "import pandas as pd\n",
        "import matplotlib.pyplot as plt\n",
        "\n",
        "from gensim.models import Word2Vec\n",
        "import gensim.downloader\n",
        "\n",
        "import seaborn as sns\n",
        "\n",
        "from sklearn.model_selection import train_test_split"
      ],
      "execution_count": null,
      "outputs": []
    },
    {
      "cell_type": "markdown",
      "metadata": {
        "id": "2NCcmGgDj0bN"
      },
      "source": [
        "Load data"
      ]
    },
    {
      "cell_type": "code",
      "metadata": {
        "id": "W8o4i3RP0Tq0"
      },
      "source": [
        "train = pd.read_csv('/content/train_reddit-3.csv')"
      ],
      "execution_count": null,
      "outputs": []
    },
    {
      "cell_type": "code",
      "metadata": {
        "colab": {
          "base_uri": "https://localhost:8080/",
          "height": 204
        },
        "id": "1vHKHlzA1Syu",
        "outputId": "1b3c68d8-36bd-45c2-d6c8-2f03cb4e1cf7"
      },
      "source": [
        "train.head()"
      ],
      "execution_count": null,
      "outputs": [
        {
          "output_type": "execute_result",
          "data": {
            "text/html": [
              "<div>\n",
              "<style scoped>\n",
              "    .dataframe tbody tr th:only-of-type {\n",
              "        vertical-align: middle;\n",
              "    }\n",
              "\n",
              "    .dataframe tbody tr th {\n",
              "        vertical-align: top;\n",
              "    }\n",
              "\n",
              "    .dataframe thead th {\n",
              "        text-align: right;\n",
              "    }\n",
              "</style>\n",
              "<table border=\"1\" class=\"dataframe\">\n",
              "  <thead>\n",
              "    <tr style=\"text-align: right;\">\n",
              "      <th></th>\n",
              "      <th>comment</th>\n",
              "      <th>subreddit</th>\n",
              "      <th>label</th>\n",
              "    </tr>\n",
              "  </thead>\n",
              "  <tbody>\n",
              "    <tr>\n",
              "      <th>0</th>\n",
              "      <td>Jesus -PRON- live</td>\n",
              "      <td>AdviceAnimals</td>\n",
              "      <td>0</td>\n",
              "    </tr>\n",
              "    <tr>\n",
              "      <th>1</th>\n",
              "      <td>CNN Staff Sick Wall - - Wall Trump Coverage</td>\n",
              "      <td>POLITIC</td>\n",
              "      <td>0</td>\n",
              "    </tr>\n",
              "    <tr>\n",
              "      <th>2</th>\n",
              "      <td>agree -PRON- mean gujrat husband good suspect ...</td>\n",
              "      <td>india</td>\n",
              "      <td>0</td>\n",
              "    </tr>\n",
              "    <tr>\n",
              "      <th>3</th>\n",
              "      <td>guy tell -PRON- -PRON- use social medium -PRON...</td>\n",
              "      <td>AskWomen</td>\n",
              "      <td>0</td>\n",
              "    </tr>\n",
              "    <tr>\n",
              "      <th>4</th>\n",
              "      <td>2011 BMW Z4 GT3</td>\n",
              "      <td>carporn</td>\n",
              "      <td>1</td>\n",
              "    </tr>\n",
              "  </tbody>\n",
              "</table>\n",
              "</div>"
            ],
            "text/plain": [
              "                                             comment      subreddit  label\n",
              "0                                  Jesus -PRON- live  AdviceAnimals      0\n",
              "1        CNN Staff Sick Wall - - Wall Trump Coverage        POLITIC      0\n",
              "2  agree -PRON- mean gujrat husband good suspect ...          india      0\n",
              "3  guy tell -PRON- -PRON- use social medium -PRON...       AskWomen      0\n",
              "4                                    2011 BMW Z4 GT3        carporn      1"
            ]
          },
          "metadata": {},
          "execution_count": 3
        }
      ]
    },
    {
      "cell_type": "code",
      "metadata": {
        "colab": {
          "base_uri": "https://localhost:8080/"
        },
        "id": "j0fgiBhVLrss",
        "outputId": "09ce721b-4983-4362-ecdd-b9236406c1de"
      },
      "source": [
        "train.info()"
      ],
      "execution_count": null,
      "outputs": [
        {
          "output_type": "stream",
          "name": "stdout",
          "text": [
            "<class 'pandas.core.frame.DataFrame'>\n",
            "RangeIndex: 808660 entries, 0 to 808659\n",
            "Data columns (total 3 columns):\n",
            " #   Column     Non-Null Count   Dtype \n",
            "---  ------     --------------   ----- \n",
            " 0   comment    806172 non-null  object\n",
            " 1   subreddit  808660 non-null  object\n",
            " 2   label      808660 non-null  int64 \n",
            "dtypes: int64(1), object(2)\n",
            "memory usage: 18.5+ MB\n"
          ]
        }
      ]
    },
    {
      "cell_type": "code",
      "metadata": {
        "colab": {
          "base_uri": "https://localhost:8080/",
          "height": 204
        },
        "id": "cRnw9GXZ5AQS",
        "outputId": "bde6a527-8e1a-44e0-b0f9-f470d90b184a"
      },
      "source": [
        "train.tail()"
      ],
      "execution_count": null,
      "outputs": [
        {
          "output_type": "execute_result",
          "data": {
            "text/html": [
              "<div>\n",
              "<style scoped>\n",
              "    .dataframe tbody tr th:only-of-type {\n",
              "        vertical-align: middle;\n",
              "    }\n",
              "\n",
              "    .dataframe tbody tr th {\n",
              "        vertical-align: top;\n",
              "    }\n",
              "\n",
              "    .dataframe thead th {\n",
              "        text-align: right;\n",
              "    }\n",
              "</style>\n",
              "<table border=\"1\" class=\"dataframe\">\n",
              "  <thead>\n",
              "    <tr style=\"text-align: right;\">\n",
              "      <th></th>\n",
              "      <th>comment</th>\n",
              "      <th>subreddit</th>\n",
              "      <th>label</th>\n",
              "    </tr>\n",
              "  </thead>\n",
              "  <tbody>\n",
              "    <tr>\n",
              "      <th>808655</th>\n",
              "      <td>swedish Delight unsponsored -PRON- entire 2016...</td>\n",
              "      <td>smashbros</td>\n",
              "      <td>1</td>\n",
              "    </tr>\n",
              "    <tr>\n",
              "      <th>808656</th>\n",
              "      <td>hey Reddit -PRON- drink flavor juice rest -PRO...</td>\n",
              "      <td>AskReddit</td>\n",
              "      <td>0</td>\n",
              "    </tr>\n",
              "    <tr>\n",
              "      <th>808657</th>\n",
              "      <td>-PRON- sure -PRON- pay -PRON- insurance place ...</td>\n",
              "      <td>cars</td>\n",
              "      <td>0</td>\n",
              "    </tr>\n",
              "    <tr>\n",
              "      <th>808658</th>\n",
              "      <td>-PRON- subscribe lot time poster creepy pm -PR...</td>\n",
              "      <td>AskReddit</td>\n",
              "      <td>0</td>\n",
              "    </tr>\n",
              "    <tr>\n",
              "      <th>808659</th>\n",
              "      <td>-PRON- different oil -PRON- know dozen food co...</td>\n",
              "      <td>worldnews</td>\n",
              "      <td>0</td>\n",
              "    </tr>\n",
              "  </tbody>\n",
              "</table>\n",
              "</div>"
            ],
            "text/plain": [
              "                                                  comment  subreddit  label\n",
              "808655  swedish Delight unsponsored -PRON- entire 2016...  smashbros      1\n",
              "808656  hey Reddit -PRON- drink flavor juice rest -PRO...  AskReddit      0\n",
              "808657  -PRON- sure -PRON- pay -PRON- insurance place ...       cars      0\n",
              "808658  -PRON- subscribe lot time poster creepy pm -PR...  AskReddit      0\n",
              "808659  -PRON- different oil -PRON- know dozen food co...  worldnews      0"
            ]
          },
          "metadata": {},
          "execution_count": 5
        }
      ]
    },
    {
      "cell_type": "code",
      "metadata": {
        "colab": {
          "base_uri": "https://localhost:8080/",
          "height": 204
        },
        "id": "nFwojmq2NNGN",
        "outputId": "86e394f9-7dc8-48e7-d266-ef6b51150f7c"
      },
      "source": [
        "train.head()"
      ],
      "execution_count": null,
      "outputs": [
        {
          "output_type": "execute_result",
          "data": {
            "text/html": [
              "<div>\n",
              "<style scoped>\n",
              "    .dataframe tbody tr th:only-of-type {\n",
              "        vertical-align: middle;\n",
              "    }\n",
              "\n",
              "    .dataframe tbody tr th {\n",
              "        vertical-align: top;\n",
              "    }\n",
              "\n",
              "    .dataframe thead th {\n",
              "        text-align: right;\n",
              "    }\n",
              "</style>\n",
              "<table border=\"1\" class=\"dataframe\">\n",
              "  <thead>\n",
              "    <tr style=\"text-align: right;\">\n",
              "      <th></th>\n",
              "      <th>comment</th>\n",
              "      <th>subreddit</th>\n",
              "      <th>label</th>\n",
              "    </tr>\n",
              "  </thead>\n",
              "  <tbody>\n",
              "    <tr>\n",
              "      <th>0</th>\n",
              "      <td>Jesus -PRON- live</td>\n",
              "      <td>AdviceAnimals</td>\n",
              "      <td>0</td>\n",
              "    </tr>\n",
              "    <tr>\n",
              "      <th>1</th>\n",
              "      <td>CNN Staff Sick Wall - - Wall Trump Coverage</td>\n",
              "      <td>POLITIC</td>\n",
              "      <td>0</td>\n",
              "    </tr>\n",
              "    <tr>\n",
              "      <th>2</th>\n",
              "      <td>agree -PRON- mean gujrat husband good suspect ...</td>\n",
              "      <td>india</td>\n",
              "      <td>0</td>\n",
              "    </tr>\n",
              "    <tr>\n",
              "      <th>3</th>\n",
              "      <td>guy tell -PRON- -PRON- use social medium -PRON...</td>\n",
              "      <td>AskWomen</td>\n",
              "      <td>0</td>\n",
              "    </tr>\n",
              "    <tr>\n",
              "      <th>4</th>\n",
              "      <td>2011 BMW Z4 GT3</td>\n",
              "      <td>carporn</td>\n",
              "      <td>1</td>\n",
              "    </tr>\n",
              "  </tbody>\n",
              "</table>\n",
              "</div>"
            ],
            "text/plain": [
              "                                             comment      subreddit  label\n",
              "0                                  Jesus -PRON- live  AdviceAnimals      0\n",
              "1        CNN Staff Sick Wall - - Wall Trump Coverage        POLITIC      0\n",
              "2  agree -PRON- mean gujrat husband good suspect ...          india      0\n",
              "3  guy tell -PRON- -PRON- use social medium -PRON...       AskWomen      0\n",
              "4                                    2011 BMW Z4 GT3        carporn      1"
            ]
          },
          "metadata": {},
          "execution_count": 6
        }
      ]
    },
    {
      "cell_type": "code",
      "metadata": {
        "id": "HRQpkSat1WkJ"
      },
      "source": [
        "comments = train['comment'].values.tolist()"
      ],
      "execution_count": null,
      "outputs": []
    },
    {
      "cell_type": "code",
      "metadata": {
        "id": "W9vwApwTjILT"
      },
      "source": [
        "comments_string = []\n",
        "for i in range(0, len(comments)):\n",
        "  comments_string.append(str(comments[i]))"
      ],
      "execution_count": null,
      "outputs": []
    },
    {
      "cell_type": "code",
      "metadata": {
        "colab": {
          "base_uri": "https://localhost:8080/"
        },
        "id": "sdeisJvjSslo",
        "outputId": "0f4e4fc6-b940-46db-eed8-ef3d5a91440c"
      },
      "source": [
        "np.unique(train['label'])"
      ],
      "execution_count": null,
      "outputs": [
        {
          "output_type": "execute_result",
          "data": {
            "text/plain": [
              "array([0, 1])"
            ]
          },
          "metadata": {},
          "execution_count": 9
        }
      ]
    },
    {
      "cell_type": "markdown",
      "metadata": {
        "id": "DalCzittkMPG"
      },
      "source": [
        "Word embedding\n",
        "\n",
        "In sarcasm the meaning of a word changes. Therefore it makes sense to use custom embedding so the different meaning is taken into account"
      ]
    },
    {
      "cell_type": "code",
      "metadata": {
        "colab": {
          "base_uri": "https://localhost:8080/"
        },
        "id": "llPOPw2lkj1X",
        "outputId": "939a9394-f2bf-4d80-d08d-d5bd50d33d33"
      },
      "source": [
        "print(list(gensim.downloader.info()['models'].keys()))"
      ],
      "execution_count": null,
      "outputs": [
        {
          "output_type": "stream",
          "name": "stdout",
          "text": [
            "['fasttext-wiki-news-subwords-300', 'conceptnet-numberbatch-17-06-300', 'word2vec-ruscorpora-300', 'word2vec-google-news-300', 'glove-wiki-gigaword-50', 'glove-wiki-gigaword-100', 'glove-wiki-gigaword-200', 'glove-wiki-gigaword-300', 'glove-twitter-25', 'glove-twitter-50', 'glove-twitter-100', 'glove-twitter-200', '__testing_word2vec-matrix-synopsis']\n"
          ]
        }
      ]
    },
    {
      "cell_type": "code",
      "metadata": {
        "id": "JvP3llRMllPh"
      },
      "source": [
        "filters='-PRON-'"
      ],
      "execution_count": null,
      "outputs": []
    },
    {
      "cell_type": "code",
      "metadata": {
        "id": "hIAwOubunKqw"
      },
      "source": [
        "def preprocess(X):\n",
        "  token_list = []\n",
        "  for sentence in X:\n",
        "\n",
        "    x = tf.keras.preprocessing.text.text_to_word_sequence(sentence, filters = filters, lower=True, split=' ')\n",
        "    token_list.append(x)\n",
        "    \n",
        "  return token_list"
      ],
      "execution_count": null,
      "outputs": []
    },
    {
      "cell_type": "code",
      "metadata": {
        "id": "1339nT0vnMt7"
      },
      "source": [
        "w2v_token_list = preprocess(comments_string)"
      ],
      "execution_count": null,
      "outputs": []
    },
    {
      "cell_type": "code",
      "metadata": {
        "colab": {
          "base_uri": "https://localhost:8080/"
        },
        "id": "jx8ib8sh5PQA",
        "outputId": "1b0003df-3672-4dcb-fc18-f7993a6a732c"
      },
      "source": [
        "w2v_token_list[0]"
      ],
      "execution_count": null,
      "outputs": [
        {
          "output_type": "execute_result",
          "data": {
            "text/plain": [
              "['jesus', 'pron', 'live']"
            ]
          },
          "metadata": {},
          "execution_count": 15
        }
      ]
    },
    {
      "cell_type": "markdown",
      "metadata": {
        "id": "JOowc7khCc8_"
      },
      "source": [
        "Count the number of tokens"
      ]
    },
    {
      "cell_type": "code",
      "metadata": {
        "id": "PkmmThUbCas3"
      },
      "source": [
        "n_token = []\n",
        "for i in range(0 , len(w2v_token_list)):\n",
        "  lenght = len(w2v_token_list[i])\n",
        "  n_token.append(lenght)"
      ],
      "execution_count": null,
      "outputs": []
    },
    {
      "cell_type": "code",
      "metadata": {
        "id": "EF_Kn-amD2Hp"
      },
      "source": [
        "h = np.histogram(n_token)"
      ],
      "execution_count": null,
      "outputs": []
    },
    {
      "cell_type": "code",
      "metadata": {
        "colab": {
          "base_uri": "https://localhost:8080/",
          "height": 333
        },
        "id": "yrZJzCyuEJA_",
        "outputId": "b01f7f63-32cb-4df7-a28d-555d04908a8b"
      },
      "source": [
        "plt.hist(n_token, range = [0, 100])"
      ],
      "execution_count": null,
      "outputs": [
        {
          "output_type": "execute_result",
          "data": {
            "text/plain": [
              "(array([455866., 207215.,  68041.,  30362.,  15790.,   9099.,   5832.,\n",
              "          3875.,   2699.,   2187.]),\n",
              " array([  0.,  10.,  20.,  30.,  40.,  50.,  60.,  70.,  80.,  90., 100.]),\n",
              " <a list of 10 Patch objects>)"
            ]
          },
          "metadata": {},
          "execution_count": 18
        },
        {
          "output_type": "display_data",
          "data": {
            "image/png": "[encoded data removed]",
            "text/plain": [
              "<Figure size 432x288 with 1 Axes>"
            ]
          },
          "metadata": {
            "needs_background": "light"
          }
        }
      ]
    },
    {
      "cell_type": "markdown",
      "metadata": {
        "id": "z9PAbQjLnfmN"
      },
      "source": [
        "We are building a Word2Vec model with a window size of 5. The embedding dimension is 50"
      ]
    },
    {
      "cell_type": "code",
      "metadata": {
        "id": "jog-Zrc-nUd6"
      },
      "source": [
        "w2v = Word2Vec(sentences=w2v_token_list, \n",
        "               size=50, window=5, min_count=1, \n",
        "               workers=3, iter = 20)\n",
        "w2v.save(\"word2vec_50.model\")"
      ],
      "execution_count": null,
      "outputs": []
    },
    {
      "cell_type": "code",
      "metadata": {
        "id": "AAY8rrU-yhsp"
      },
      "source": [
        "reddit_w2v = Word2Vec.load(\"/content/word2vec_50.model\")"
      ],
      "execution_count": null,
      "outputs": []
    },
    {
      "cell_type": "markdown",
      "metadata": {
        "id": "3V4TENWbymo6"
      },
      "source": [
        "GloVe 50 trained on twitter . Even GloVe and Word2Vec are different, since GloVe is using global information, while Word2Vec relies just on local information we are comparing W2V with GloVe. We do it because the GloVe was trained on twitter, where we hope that the writting style is more similar to reddit than for example Word2Vec trained on google news"
      ]
    },
    {
      "cell_type": "code",
      "metadata": {
        "colab": {
          "base_uri": "https://localhost:8080/"
        },
        "id": "s2r94Y4XzHhd",
        "outputId": "4bc105cf-98bc-4d63-d894-ced654f87709"
      },
      "source": [
        "glove = gensim.downloader.load('glove-twitter-50')"
      ],
      "execution_count": null,
      "outputs": [
        {
          "output_type": "stream",
          "name": "stdout",
          "text": [
            "[==================================================] 100.0% 199.5/199.5MB downloaded\n"
          ]
        }
      ]
    },
    {
      "cell_type": "markdown",
      "metadata": {
        "id": "h1AFV_C0zN7J"
      },
      "source": [
        "We compare the similarity of some words between custom word2vec and glove"
      ]
    },
    {
      "cell_type": "code",
      "metadata": {
        "colab": {
          "base_uri": "https://localhost:8080/"
        },
        "id": "K71pI2ZbzUwe",
        "outputId": "497f6a6c-abe2-4cca-ecff-0bf2b1618e0b"
      },
      "source": [
        "reddit_w2v.wv.most_similar('sarcasm')"
      ],
      "execution_count": null,
      "outputs": [
        {
          "output_type": "execute_result",
          "data": {
            "text/plain": [
              "[('sarcastic', 0.809568464756012),\n",
              " ('punctuation', 0.7665599584579468),\n",
              " ('typo', 0.6893393397331238),\n",
              " ('sardonic', 0.67090904712677),\n",
              " ('grammar', 0.6692318916320801),\n",
              " ('misspelling', 0.6609377264976501),\n",
              " ('spelling', 0.6591582894325256),\n",
              " ('typos', 0.6579211950302124),\n",
              " ('emoticon', 0.6575927138328552),\n",
              " ('font', 0.6563110947608948)]"
            ]
          },
          "metadata": {},
          "execution_count": 21
        }
      ]
    },
    {
      "cell_type": "code",
      "metadata": {
        "colab": {
          "base_uri": "https://localhost:8080/"
        },
        "id": "G-DNblUM7PzR",
        "outputId": "3529f77e-ce3a-4709-fadd-20e9a7731594"
      },
      "source": [
        "glove.wv.most_similar('sarcasm')"
      ],
      "execution_count": null,
      "outputs": [
        {
          "output_type": "stream",
          "name": "stderr",
          "text": [
            "/usr/local/lib/python3.7/dist-packages/ipykernel_launcher.py:1: DeprecationWarning: Call to deprecated `wv` (Attribute will be removed in 4.0.0, use self instead).\n",
            "  \"\"\"Entry point for launching an IPython kernel.\n"
          ]
        },
        {
          "output_type": "execute_result",
          "data": {
            "text/plain": [
              "[('profanity', 0.7887452840805054),\n",
              " ('grammar', 0.758082926273346),\n",
              " ('stupidity', 0.7542912364006042),\n",
              " ('sarcastic', 0.7457067370414734),\n",
              " ('honesty', 0.7331408858299255),\n",
              " ('irony', 0.7225844860076904),\n",
              " ('spelling', 0.7183022499084473),\n",
              " ('correct', 0.7140311598777771),\n",
              " ('personality', 0.7095839381217957),\n",
              " ('language', 0.7088583707809448)]"
            ]
          },
          "metadata": {},
          "execution_count": 22
        }
      ]
    },
    {
      "cell_type": "code",
      "metadata": {
        "colab": {
          "base_uri": "https://localhost:8080/"
        },
        "id": "JkpxjBNk7TGq",
        "outputId": "4e5aa44f-8eaa-4adf-d136-15c89b694676"
      },
      "source": [
        "reddit_w2v.wv.most_similar('food')"
      ],
      "execution_count": null,
      "outputs": [
        {
          "output_type": "execute_result",
          "data": {
            "text/plain": [
              "[('meal', 0.7882431745529175),\n",
              " ('meat', 0.7852242588996887),\n",
              " ('eat', 0.7603394389152527),\n",
              " ('supermarket', 0.737467348575592),\n",
              " ('snack', 0.7319060564041138),\n",
              " ('restaurant', 0.7302890419960022),\n",
              " ('vegetable', 0.725460946559906),\n",
              " ('hamburger', 0.6996071338653564),\n",
              " ('steak', 0.695990800857544),\n",
              " ('seafood', 0.692101776599884)]"
            ]
          },
          "metadata": {},
          "execution_count": 23
        }
      ]
    },
    {
      "cell_type": "code",
      "metadata": {
        "colab": {
          "base_uri": "https://localhost:8080/"
        },
        "id": "Fe0Q05hU-gga",
        "outputId": "98e70abf-1ec9-40b1-d2ff-fe47e9f0388b"
      },
      "source": [
        "glove.wv.most_similar('food')"
      ],
      "execution_count": null,
      "outputs": [
        {
          "output_type": "stream",
          "name": "stderr",
          "text": [
            "/usr/local/lib/python3.7/dist-packages/ipykernel_launcher.py:1: DeprecationWarning: Call to deprecated `wv` (Attribute will be removed in 4.0.0, use self instead).\n",
            "  \"\"\"Entry point for launching an IPython kernel.\n"
          ]
        },
        {
          "output_type": "execute_result",
          "data": {
            "text/plain": [
              "[('coffee', 0.8504894971847534),\n",
              " ('eat', 0.8481371402740479),\n",
              " ('breakfast', 0.8466012477874756),\n",
              " ('eating', 0.8367788791656494),\n",
              " ('lunch', 0.8283551931381226),\n",
              " ('junk', 0.8252913355827332),\n",
              " ('meat', 0.8209962248802185),\n",
              " ('cooking', 0.8184602856636047),\n",
              " ('dinner', 0.8173957467079163),\n",
              " ('foods', 0.8172489404678345)]"
            ]
          },
          "metadata": {},
          "execution_count": 24
        }
      ]
    },
    {
      "cell_type": "code",
      "metadata": {
        "colab": {
          "base_uri": "https://localhost:8080/"
        },
        "id": "q0bX-WqE-jJj",
        "outputId": "0f45dfa4-295a-4ded-f25d-09f20f3a00a6"
      },
      "source": [
        "reddit_w2v.wv.similarity('university', 'irony')"
      ],
      "execution_count": null,
      "outputs": [
        {
          "output_type": "execute_result",
          "data": {
            "text/plain": [
              "-0.07020188"
            ]
          },
          "metadata": {},
          "execution_count": 25
        }
      ]
    },
    {
      "cell_type": "code",
      "metadata": {
        "colab": {
          "base_uri": "https://localhost:8080/"
        },
        "id": "kJHC5lVB84p3",
        "outputId": "dbd74c51-f7a8-430c-f1aa-da7e60c30930"
      },
      "source": [
        "glove.wv.similarity('university', 'irony')"
      ],
      "execution_count": null,
      "outputs": [
        {
          "output_type": "stream",
          "name": "stderr",
          "text": [
            "/usr/local/lib/python3.7/dist-packages/ipykernel_launcher.py:1: DeprecationWarning: Call to deprecated `wv` (Attribute will be removed in 4.0.0, use self instead).\n",
            "  \"\"\"Entry point for launching an IPython kernel.\n"
          ]
        },
        {
          "output_type": "execute_result",
          "data": {
            "text/plain": [
              "0.25108966"
            ]
          },
          "metadata": {},
          "execution_count": 26
        }
      ]
    },
    {
      "cell_type": "code",
      "metadata": {
        "id": "9jWtiwjG_kjr"
      },
      "source": [
        "keys = ['sarcasm', 'irony', 'apple', 'food', 'computer', 'university']\n",
        "\n",
        "def embedding_cluster_creation(model, keys):\n",
        "\n",
        "  embedding_clusters = []\n",
        "  word_clusters = []\n",
        "  for word in keys:\n",
        "      embeddings = []\n",
        "      words = []\n",
        "      for similar_word, _ in model.most_similar(word, topn=10):\n",
        "          words.append(similar_word)\n",
        "          embeddings.append(model[similar_word])\n",
        "      embedding_clusters.append(embeddings)\n",
        "      word_clusters.append(words)\n",
        "\n",
        "  return embedding_clusters, word_clusters"
      ],
      "execution_count": null,
      "outputs": []
    },
    {
      "cell_type": "code",
      "metadata": {
        "colab": {
          "base_uri": "https://localhost:8080/"
        },
        "id": "CLEvm0eJBb_p",
        "outputId": "cc83c629-19e9-41cc-dabe-d8a885f89bb4"
      },
      "source": [
        "embedding_clusters, word_clusters = embedding_cluster_creation(reddit_w2v, keys)"
      ],
      "execution_count": null,
      "outputs": [
        {
          "output_type": "stream",
          "name": "stderr",
          "text": [
            "/usr/local/lib/python3.7/dist-packages/ipykernel_launcher.py:10: DeprecationWarning: Call to deprecated `most_similar` (Method will be removed in 4.0.0, use self.wv.most_similar() instead).\n",
            "  # Remove the CWD from sys.path while we load stuff.\n",
            "/usr/local/lib/python3.7/dist-packages/ipykernel_launcher.py:12: DeprecationWarning: Call to deprecated `__getitem__` (Method will be removed in 4.0.0, use self.wv.__getitem__() instead).\n",
            "  if sys.path[0] == '':\n"
          ]
        }
      ]
    },
    {
      "cell_type": "code",
      "metadata": {
        "id": "U11kNmGOBUu4"
      },
      "source": [
        "from sklearn.manifold import TSNE\n",
        "\n",
        "embedding_clusters = np.array(embedding_clusters)\n",
        "n, m, k = embedding_clusters.shape\n",
        "tsne_model_en_2d = TSNE(perplexity=15, n_components=2, init='pca', n_iter=3500, random_state=32)\n",
        "embeddings_en_2d = np.array(tsne_model_en_2d.fit_transform(embedding_clusters.reshape(n * m, k))).reshape(n, m, 2)"
      ],
      "execution_count": null,
      "outputs": []
    },
    {
      "cell_type": "code",
      "metadata": {
        "colab": {
          "base_uri": "https://localhost:8080/",
          "height": 638
        },
        "id": "P1EcwsKuBlrk",
        "outputId": "9542a9af-bd3f-4925-f2b9-cf768e875646"
      },
      "source": [
        "import matplotlib.pyplot as plt\n",
        "import matplotlib.cm as cm\n",
        "% matplotlib inline\n",
        "\n",
        "\n",
        "def tsne_plot_similar_words(title, labels, embedding_clusters, word_clusters, a, filename=None):\n",
        "    plt.figure(figsize=(16, 9))\n",
        "    colors = cm.rainbow(np.linspace(0, 1, len(labels)))\n",
        "    for label, embeddings, words, color in zip(labels, embedding_clusters, word_clusters, colors):\n",
        "        x = embeddings[:, 0]\n",
        "        y = embeddings[:, 1]\n",
        "        plt.scatter(x, y, c=color, alpha=a, label=label)\n",
        "        for i, word in enumerate(words):\n",
        "            plt.annotate(word, alpha=0.5, xy=(x[i], y[i]), xytext=(5, 2),\n",
        "                         textcoords='offset points', ha='right', va='bottom', size=8)\n",
        "    plt.legend(loc=4)\n",
        "    plt.title(title)\n",
        "    plt.grid(True)\n",
        "    if filename:\n",
        "        plt.savefig(filename, format='png', dpi=150, bbox_inches='tight')\n",
        "    plt.show()\n",
        "\n",
        "\n",
        "tsne_plot_similar_words('Similar words from custom word2vec', keys, embeddings_en_2d, word_clusters, 0.7)"
      ],
      "execution_count": null,
      "outputs": [
        {
          "output_type": "stream",
          "name": "stderr",
          "text": [
            "*c* argument looks like a single numeric RGB or RGBA sequence, which should be avoided as value-mapping will have precedence in case its length matches with *x* & *y*.  Please use the *color* keyword-argument or provide a 2-D array with a single row if you intend to specify the same RGB or RGBA value for all points.\n",
            "*c* argument looks like a single numeric RGB or RGBA sequence, which should be avoided as value-mapping will have precedence in case its length matches with *x* & *y*.  Please use the *color* keyword-argument or provide a 2-D array with a single row if you intend to specify the same RGB or RGBA value for all points.\n",
            "*c* argument looks like a single numeric RGB or RGBA sequence, which should be avoided as value-mapping will have precedence in case its length matches with *x* & *y*.  Please use the *color* keyword-argument or provide a 2-D array with a single row if you intend to specify the same RGB or RGBA value for all points.\n",
            "*c* argument looks like a single numeric RGB or RGBA sequence, which should be avoided as value-mapping will have precedence in case its length matches with *x* & *y*.  Please use the *color* keyword-argument or provide a 2-D array with a single row if you intend to specify the same RGB or RGBA value for all points.\n",
            "*c* argument looks like a single numeric RGB or RGBA sequence, which should be avoided as value-mapping will have precedence in case its length matches with *x* & *y*.  Please use the *color* keyword-argument or provide a 2-D array with a single row if you intend to specify the same RGB or RGBA value for all points.\n",
            "*c* argument looks like a single numeric RGB or RGBA sequence, which should be avoided as value-mapping will have precedence in case its length matches with *x* & *y*.  Please use the *color* keyword-argument or provide a 2-D array with a single row if you intend to specify the same RGB or RGBA value for all points.\n"
          ]
        },
        {
          "output_type": "display_data",
          "data": {
            "image/png": "[encoded data removed]",
            "text/plain": [
              "<Figure size 1152x648 with 1 Axes>"
            ]
          },
          "metadata": {
            "needs_background": "light"
          }
        }
      ]
    },
    {
      "cell_type": "code",
      "metadata": {
        "id": "sYcRnJF1Bolv"
      },
      "source": [
        "embedding_clusters, word_clusters = embedding_cluster_creation(glove, keys)\n",
        "\n",
        "embedding_clusters = np.array(embedding_clusters)\n",
        "n, m, k = embedding_clusters.shape\n",
        "tsne_model_en_2d = TSNE(perplexity=15, n_components=2, init='pca', n_iter=3500, random_state=32)\n",
        "embeddings_en_2d = np.array(tsne_model_en_2d.fit_transform(embedding_clusters.reshape(n * m, k))).reshape(n, m, 2)"
      ],
      "execution_count": null,
      "outputs": []
    },
    {
      "cell_type": "code",
      "metadata": {
        "colab": {
          "base_uri": "https://localhost:8080/",
          "height": 638
        },
        "id": "mUYGhuwmCSPI",
        "outputId": "27291b87-e7da-4fb1-b027-80734a4de950"
      },
      "source": [
        "tsne_plot_similar_words('Similar words from custom word2vec', keys, embeddings_en_2d, word_clusters, 0.7)"
      ],
      "execution_count": null,
      "outputs": [
        {
          "output_type": "stream",
          "name": "stderr",
          "text": [
            "*c* argument looks like a single numeric RGB or RGBA sequence, which should be avoided as value-mapping will have precedence in case its length matches with *x* & *y*.  Please use the *color* keyword-argument or provide a 2-D array with a single row if you intend to specify the same RGB or RGBA value for all points.\n",
            "*c* argument looks like a single numeric RGB or RGBA sequence, which should be avoided as value-mapping will have precedence in case its length matches with *x* & *y*.  Please use the *color* keyword-argument or provide a 2-D array with a single row if you intend to specify the same RGB or RGBA value for all points.\n",
            "*c* argument looks like a single numeric RGB or RGBA sequence, which should be avoided as value-mapping will have precedence in case its length matches with *x* & *y*.  Please use the *color* keyword-argument or provide a 2-D array with a single row if you intend to specify the same RGB or RGBA value for all points.\n",
            "*c* argument looks like a single numeric RGB or RGBA sequence, which should be avoided as value-mapping will have precedence in case its length matches with *x* & *y*.  Please use the *color* keyword-argument or provide a 2-D array with a single row if you intend to specify the same RGB or RGBA value for all points.\n",
            "*c* argument looks like a single numeric RGB or RGBA sequence, which should be avoided as value-mapping will have precedence in case its length matches with *x* & *y*.  Please use the *color* keyword-argument or provide a 2-D array with a single row if you intend to specify the same RGB or RGBA value for all points.\n",
            "*c* argument looks like a single numeric RGB or RGBA sequence, which should be avoided as value-mapping will have precedence in case its length matches with *x* & *y*.  Please use the *color* keyword-argument or provide a 2-D array with a single row if you intend to specify the same RGB or RGBA value for all points.\n"
          ]
        },
        {
          "output_type": "display_data",
          "data": {
            "image/png": "[encoded data removed]",
            "text/plain": [
              "<Figure size 1152x648 with 1 Axes>"
            ]
          },
          "metadata": {
            "needs_background": "light"
          }
        }
      ]
    },
    {
      "cell_type": "code",
      "metadata": {
        "id": "zoTTA2tYGMKD"
      },
      "source": [
        "from sklearn.metrics.pairwise import euclidean_distances"
      ],
      "execution_count": null,
      "outputs": []
    },
    {
      "cell_type": "code",
      "metadata": {
        "id": "-5S6lT4fHB18"
      },
      "source": [
        "w2v_sarcasm_mean = np.mean(embeddings_en_2d[0], axis = 1)"
      ],
      "execution_count": null,
      "outputs": []
    },
    {
      "cell_type": "code",
      "metadata": {
        "id": "ZMb5meHdIG8e"
      },
      "source": [
        "def centeroidnp(arr):\n",
        "    length = arr.shape[0]\n",
        "    sum_x = np.sum(arr[:, 0])\n",
        "    sum_y = np.sum(arr[:, 1])\n",
        "    return sum_x/length, sum_y/length"
      ],
      "execution_count": null,
      "outputs": []
    },
    {
      "cell_type": "code",
      "metadata": {
        "id": "_03nYqVWIamV"
      },
      "source": [
        "x_cord, y_cord = centeroidnp(embeddings_en_2d[0])"
      ],
      "execution_count": null,
      "outputs": []
    },
    {
      "cell_type": "code",
      "metadata": {
        "id": "NmOGv7oEIgJo"
      },
      "source": [
        "x_cord2, y_cord2 = centeroidnp(embeddings_en_2d[1])"
      ],
      "execution_count": null,
      "outputs": []
    },
    {
      "cell_type": "code",
      "metadata": {
        "colab": {
          "base_uri": "https://localhost:8080/"
        },
        "id": "dEm1IabuH8Nw",
        "outputId": "0fa297ac-c3fd-4cba-afd2-b1e383da69f1"
      },
      "source": [
        "embeddings_en_2d[0][:, 0]"
      ],
      "execution_count": null,
      "outputs": [
        {
          "output_type": "execute_result",
          "data": {
            "text/plain": [
              "array([103.68939 ,  88.59866 ,  18.08251 ,  63.642307,  23.055937,\n",
              "        23.89787 ,  79.62973 ,  66.668526,  41.793976, 100.23858 ],\n",
              "      dtype=float32)"
            ]
          },
          "metadata": {},
          "execution_count": 55
        }
      ]
    },
    {
      "cell_type": "code",
      "metadata": {
        "colab": {
          "base_uri": "https://localhost:8080/",
          "height": 266
        },
        "id": "NAGhi7PBI0qH",
        "outputId": "a57c8ddc-6b41-4ca0-ebc1-5dc4e12e84b3"
      },
      "source": [
        "plt.scatter(embeddings_en_2d[0][:, 0], embeddings_en_2d[0][:, 1], c = 'blue')\n",
        "plt.scatter(embeddings_en_2d[1][:, 0], embeddings_en_2d[1][:, 1], c = 'green')\n",
        "plt.scatter(x_cord, y_cord, c = 'red')\n",
        "plt.scatter(x_cord2, y_cord2, c = 'orange')\n",
        "plt.show()"
      ],
      "execution_count": null,
      "outputs": [
        {
          "output_type": "display_data",
          "data": {
            "image/png": "[encoded data removed]",
            "text/plain": [
              "<Figure size 432x288 with 1 Axes>"
            ]
          },
          "metadata": {
            "needs_background": "light"
          }
        }
      ]
    },
    {
      "cell_type": "code",
      "metadata": {
        "id": "aoEtOhtWH8iJ"
      },
      "source": [
        ""
      ],
      "execution_count": null,
      "outputs": []
    },
    {
      "cell_type": "markdown",
      "metadata": {
        "id": "vcuyOPH1JsdK"
      },
      "source": [
        "Generate Embedding Matrix"
      ]
    },
    {
      "cell_type": "code",
      "metadata": {
        "id": "AmHPj5t3IAt8",
        "colab": {
          "base_uri": "https://localhost:8080/"
        },
        "outputId": "faa40a6e-b280-43ef-b9e2-a25c8add29f4"
      },
      "source": [
        "vocabulary = list(reddit_w2v.wv.vocab.keys())\n",
        "vocabulary_glove = list(glove.wv.vocab.keys())"
      ],
      "execution_count": null,
      "outputs": [
        {
          "output_type": "stream",
          "name": "stderr",
          "text": [
            "/usr/local/lib/python3.7/dist-packages/ipykernel_launcher.py:2: DeprecationWarning: Call to deprecated `wv` (Attribute will be removed in 4.0.0, use self instead).\n",
            "  \n"
          ]
        }
      ]
    },
    {
      "cell_type": "markdown",
      "metadata": {
        "id": "92UVG0orE_ih"
      },
      "source": [
        "Neural Network"
      ]
    },
    {
      "cell_type": "markdown",
      "metadata": {
        "id": "JCaGk1IBFFMp"
      },
      "source": [
        "Average text length (Important for how long should be the LSTM vector)"
      ]
    },
    {
      "cell_type": "code",
      "metadata": {
        "id": "lBxP4dcS59wB"
      },
      "source": [
        "X_train, X_val = train_test_split(train, test_size = 0.2, \n",
        "                                  random_state=42, shuffle=True, \n",
        "                                  stratify=train['label'])"
      ],
      "execution_count": null,
      "outputs": []
    },
    {
      "cell_type": "code",
      "metadata": {
        "id": "ASlRqgz1OQQa"
      },
      "source": [
        "X = X_train['comment'].values\n",
        "X_subreddit = X_train['subreddit'].values\n",
        "\n",
        "X_val_data = X_val['comment'].values\n",
        "X_val_subreddit = X_val['subreddit'].values"
      ],
      "execution_count": null,
      "outputs": []
    },
    {
      "cell_type": "code",
      "metadata": {
        "colab": {
          "base_uri": "https://localhost:8080/"
        },
        "id": "wEWTxUxcO-zm",
        "outputId": "94856a9b-de43-4785-ae0f-0db3b5a993b7"
      },
      "source": [
        "X[1], X_subreddit[1]"
      ],
      "execution_count": null,
      "outputs": [
        {
          "output_type": "execute_result",
          "data": {
            "text/plain": [
              "('dabble Diana play certainly -PRON- want play -PRON- chroma -PRON- good skin .',\n",
              " 'leagueoflegends')"
            ]
          },
          "metadata": {},
          "execution_count": 93
        }
      ]
    },
    {
      "cell_type": "code",
      "metadata": {
        "id": "EuAdLMgOOg1d"
      },
      "source": [
        "train_list = []\n",
        "for i in range(0, len(X)):\n",
        "  s = str(X[i])\n",
        "  train_list.append(s)\n",
        "\n",
        "train_list_subreddit = []\n",
        "for i in range(0, len(X_subreddit)):\n",
        "  s = str(X_subreddit[i])\n",
        "  train_list_subreddit.append(s)"
      ],
      "execution_count": null,
      "outputs": []
    },
    {
      "cell_type": "code",
      "metadata": {
        "id": "PpS-BdcB4ZiD"
      },
      "source": [
        "val_list = []\n",
        "for i in range(0, len(X_val_data)):\n",
        "  s = str(X_val_data[i])\n",
        "  val_list.append(s)\n",
        "\n",
        "val_list_subreddit = []\n",
        "for i in range(0, len(X_val_subreddit)):\n",
        "  s = str(X_val_subreddit[i])\n",
        "  val_list_subreddit.append(s)"
      ],
      "execution_count": null,
      "outputs": []
    },
    {
      "cell_type": "code",
      "metadata": {
        "id": "Ba6t5_q-Kyfr"
      },
      "source": [
        "y = X_train['label'].values\n",
        "y_val = X_val['label'].values"
      ],
      "execution_count": null,
      "outputs": []
    },
    {
      "cell_type": "code",
      "metadata": {
        "id": "8jp7tWuJP10D"
      },
      "source": [
        "filters='-PRON-'"
      ],
      "execution_count": null,
      "outputs": []
    },
    {
      "cell_type": "code",
      "metadata": {
        "id": "MElzf87D_wkJ"
      },
      "source": [
        "subreddit_train_np = tf.convert_to_tensor(train_list_subreddit)\n",
        "subreddit_val_np = tf.convert_to_tensor(val_list_subreddit)"
      ],
      "execution_count": null,
      "outputs": []
    },
    {
      "cell_type": "code",
      "metadata": {
        "id": "TIQNBBSR_-Ba"
      },
      "source": [
        "voc_text_vec = list(dict.fromkeys(train_list_subreddit))"
      ],
      "execution_count": null,
      "outputs": []
    },
    {
      "cell_type": "markdown",
      "metadata": {
        "id": "fUeaZWXM3hir"
      },
      "source": [
        "Neural Network Inputs"
      ]
    },
    {
      "cell_type": "code",
      "metadata": {
        "id": "8NjGRM2QFBb-"
      },
      "source": [
        "max_length = 25\n",
        "trunc_type='post'\n",
        "oov_tok = \"<OOV>\"\n",
        "padding = 'pre'\n",
        "\n",
        "a = len(vocabulary) + 1\n",
        "\n",
        "\n",
        "import tensorflow as tf\n",
        "from tensorflow import keras\n",
        "from tensorflow.keras.preprocessing.text import Tokenizer\n",
        "from tensorflow.keras.preprocessing.sequence import pad_sequences\n",
        "\n",
        "tokenizer = Tokenizer(num_words = a, oov_token=oov_tok, filters= filters)\n",
        "\n",
        "tokenizer.fit_on_texts(train_list)\n",
        "word_index = tokenizer.word_index\n",
        "sequences = tokenizer.texts_to_sequences(train_list)\n",
        "\n",
        "padded_sequences = pad_sequences(sequences, \n",
        "                                 maxlen=max_length, padding = padding, \n",
        "                                 truncating=trunc_type)\n",
        "\n",
        "sequences_val = tokenizer.texts_to_sequences(val_list)\n",
        "padded_sequences_val = pad_sequences(sequences_val, \n",
        "                                 maxlen=max_length, padding = padding, \n",
        "                                 truncating=trunc_type)"
      ],
      "execution_count": null,
      "outputs": []
    },
    {
      "cell_type": "code",
      "metadata": {
        "colab": {
          "base_uri": "https://localhost:8080/"
        },
        "id": "Shi782Jq-ZLf",
        "outputId": "210b9d7a-cb09-4234-d45a-9f8dcb5bb0ca"
      },
      "source": [
        "padded_sequences_val[0]"
      ],
      "execution_count": null,
      "outputs": [
        {
          "output_type": "execute_result",
          "data": {
            "text/plain": [
              "array([   0,    0,    0,    0,    0,    0,    0,    0,    0,    0,    0,\n",
              "          0,    0,    0,    0,    0,    0,    0,  408,    2,  264,    2,\n",
              "       2886, 2930,  339], dtype=int32)"
            ]
          },
          "metadata": {},
          "execution_count": 103
        }
      ]
    },
    {
      "cell_type": "code",
      "metadata": {
        "colab": {
          "base_uri": "https://localhost:8080/"
        },
        "id": "SVH6wSl7M7h0",
        "outputId": "683dd554-2cea-417f-c746-3c2a10db4ce7"
      },
      "source": [
        "golve_embedding_layer = glove.wv.get_keras_embedding(train_embeddings=False)"
      ],
      "execution_count": null,
      "outputs": [
        {
          "output_type": "stream",
          "name": "stderr",
          "text": [
            "/usr/local/lib/python3.7/dist-packages/ipykernel_launcher.py:1: DeprecationWarning: Call to deprecated `wv` (Attribute will be removed in 4.0.0, use self instead).\n",
            "  \"\"\"Entry point for launching an IPython kernel.\n"
          ]
        }
      ]
    },
    {
      "cell_type": "code",
      "metadata": {
        "id": "lUdad2quBWxt"
      },
      "source": [
        "word2vec_embedding_layer = reddit_w2v.wv.get_keras_embedding(train_embeddings=False)"
      ],
      "execution_count": null,
      "outputs": []
    },
    {
      "cell_type": "code",
      "metadata": {
        "id": "agpIoU6g2dUU"
      },
      "source": [
        "vectorize_layer = tf.keras.layers.experimental.preprocessing.TextVectorization(\n",
        "    max_tokens=None, standardize=None,\n",
        "    split=None, ngrams=None, output_mode='int',\n",
        "    output_sequence_length=None, pad_to_max_tokens=False, vocabulary=voc_text_vec)"
      ],
      "execution_count": null,
      "outputs": []
    },
    {
      "cell_type": "code",
      "metadata": {
        "id": "sW3HTGRSKLaB"
      },
      "source": [
        "x_input = tf.keras.Input(shape=(25,))\n",
        "embedded_sequences = word2vec_embedding_layer(x_input)\n",
        "seq = tf.keras.layers.LSTM(25)(embedded_sequences)\n",
        "seq = tf.keras.layers.Dense(1, 'sigmoid')(seq)\n",
        "\n",
        "x_subreddit = tf.keras.Input(shape=(1,), dtype=tf.string)\n",
        "x_subreddit_vector = vectorize_layer(x_subreddit)\n",
        "x_s = tf.keras.layers.Dense(1, 'sigmoid')(x_subreddit_vector)\n",
        "\n",
        "#embedded_sequences = golve_embedding_layer(x_input)\n",
        "\n",
        "x = tf.keras.layers.Add()([seq, x_s])\n",
        "output = tf.keras.layers.Dense(1, 'sigmoid')(x)\n",
        "\n",
        "model = tf.keras.Model([x_input, x_subreddit], output)\n",
        "model.compile(optimizer= tf.keras.optimizers.Adam(learning_rate=0.001),\n",
        "              loss=tf.keras.losses.BinaryCrossentropy(),\n",
        "              metrics=['acc', tf.keras.metrics.AUC()])"
      ],
      "execution_count": null,
      "outputs": []
    },
    {
      "cell_type": "code",
      "metadata": {
        "colab": {
          "base_uri": "https://localhost:8080/",
          "height": 564
        },
        "id": "Su4Wjdpt5QOV",
        "outputId": "178b2233-2adc-4c30-c64e-e08dd9e7d80d"
      },
      "source": [
        "tf.keras.utils.plot_model(model)"
      ],
      "execution_count": null,
      "outputs": [
        {
          "output_type": "execute_result",
          "data": {
            "image/png": "[encoded data removed]",
            "text/plain": [
              "<IPython.core.display.Image object>"
            ]
          },
          "metadata": {},
          "execution_count": 130
        }
      ]
    },
    {
      "cell_type": "code",
      "metadata": {
        "id": "KJKlIDJvFoTv"
      },
      "source": [
        "early = tf.keras.callbacks.EarlyStopping(\n",
        "    monitor='val_loss', min_delta=0, patience=1, verbose=0,\n",
        "    mode='auto', baseline=None, restore_best_weights=False\n",
        ")"
      ],
      "execution_count": null,
      "outputs": []
    },
    {
      "cell_type": "code",
      "metadata": {
        "colab": {
          "base_uri": "https://localhost:8080/"
        },
        "id": "LpJTTbfaEqYL",
        "outputId": "9acd0026-bc99-4f12-9c59-3c24dc76c633"
      },
      "source": [
        "print(tf.__version__)"
      ],
      "execution_count": null,
      "outputs": [
        {
          "output_type": "stream",
          "name": "stdout",
          "text": [
            "2.6.0\n"
          ]
        }
      ]
    },
    {
      "cell_type": "code",
      "metadata": {
        "colab": {
          "base_uri": "https://localhost:8080/"
        },
        "id": "16sAUK4GKpmj",
        "outputId": "5db93c78-9f25-4d85-c8a8-fe09997266b1"
      },
      "source": [
        "nn = model.fit([padded_sequences, subreddit_train_np], y, \n",
        "           epochs=10, batch_size=64,\n",
        "           validation_data = ([padded_sequences_val, subreddit_val_np], y_val),\n",
        "           #validation_split = 0.2,\n",
        "           callbacks = [early], shuffle = True)"
      ],
      "execution_count": null,
      "outputs": [
        {
          "output_type": "stream",
          "name": "stdout",
          "text": [
            "Epoch 1/10\n",
            "10109/10109 [==============================] - 285s 28ms/step - loss: 0.6874 - acc: 0.5441 - auc_6: 0.5610 - val_loss: 0.6849 - val_acc: 0.5545 - val_auc_6: 0.5731\n",
            "Epoch 2/10\n",
            "10109/10109 [==============================] - 271s 27ms/step - loss: 0.6825 - acc: 0.5609 - auc_6: 0.5832 - val_loss: 0.6834 - val_acc: 0.5587 - val_auc_6: 0.5810\n",
            "Epoch 3/10\n",
            "10109/10109 [==============================] - 263s 26ms/step - loss: 0.6801 - acc: 0.5665 - auc_6: 0.5914 - val_loss: 0.6817 - val_acc: 0.5612 - val_auc_6: 0.5857\n",
            "Epoch 4/10\n",
            "10109/10109 [==============================] - 264s 26ms/step - loss: 0.6784 - acc: 0.5703 - auc_6: 0.5971 - val_loss: 0.6820 - val_acc: 0.5614 - val_auc_6: 0.5871\n"
          ]
        }
      ]
    },
    {
      "cell_type": "code",
      "metadata": {
        "id": "RfcN_QMhTOce"
      },
      "source": [
        "test = pd.read_csv('/content/test_reddit-3.csv')"
      ],
      "execution_count": null,
      "outputs": []
    },
    {
      "cell_type": "code",
      "metadata": {
        "id": "SNpU7EGYTGW8"
      },
      "source": [
        "X_test = test['comment'].values\n",
        "X_test_subreddit = test['subreddit'].values"
      ],
      "execution_count": null,
      "outputs": []
    },
    {
      "cell_type": "code",
      "metadata": {
        "id": "Fm_YEQIBT3J8"
      },
      "source": [
        "y_test = test['label'].values"
      ],
      "execution_count": null,
      "outputs": []
    },
    {
      "cell_type": "code",
      "metadata": {
        "id": "f4dvHKJlU1bV"
      },
      "source": [
        "test_list = []\n",
        "for i in range(0, len(X_test)):\n",
        "  s = str(X_test[i])\n",
        "  test_list.append(s)\n",
        "\n",
        "test_list_subreddit = []\n",
        "for i in range(0, len(X_test_subreddit)):\n",
        "  s = str(X_test_subreddit[i])\n",
        "  test_list_subreddit.append(s)"
      ],
      "execution_count": null,
      "outputs": []
    },
    {
      "cell_type": "code",
      "metadata": {
        "id": "xIEf0XWkRjNI"
      },
      "source": [
        "sequences_test = tokenizer.texts_to_sequences(test_list)\n",
        "\n",
        "padded_sequences_test = pad_sequences(sequences_test, \n",
        "                                 maxlen=max_length, padding = padding, \n",
        "                                 truncating=trunc_type)\n",
        "\n",
        "subreddit_test_np = tf.convert_to_tensor(test_list_subreddit)"
      ],
      "execution_count": null,
      "outputs": []
    },
    {
      "cell_type": "code",
      "metadata": {
        "id": "ClqmUCtLRkYq"
      },
      "source": [
        "y_hat_w2v = model.predict([padded_sequences_test, subreddit_test_np])"
      ],
      "execution_count": null,
      "outputs": []
    },
    {
      "cell_type": "code",
      "metadata": {
        "id": "Bta3h7eHVa08"
      },
      "source": [
        "y_hat_w2v_rounded = np.round(y_hat_w2v)"
      ],
      "execution_count": null,
      "outputs": []
    },
    {
      "cell_type": "code",
      "metadata": {
        "id": "7Di9bZp7RzlF"
      },
      "source": [
        "from sklearn.metrics import classification_report"
      ],
      "execution_count": null,
      "outputs": []
    },
    {
      "cell_type": "code",
      "metadata": {
        "colab": {
          "base_uri": "https://localhost:8080/"
        },
        "id": "F8skSUU_Tv2g",
        "outputId": "2e8af32c-ad3c-4803-b0da-4d61f80df779"
      },
      "source": [
        "print(classification_report(y_test, y_hat_w2v_rounded))"
      ],
      "execution_count": null,
      "outputs": [
        {
          "output_type": "stream",
          "name": "stdout",
          "text": [
            "              precision    recall  f1-score   support\n",
            "\n",
            "           0       0.56      0.53      0.55    101083\n",
            "           1       0.56      0.59      0.57    101083\n",
            "\n",
            "    accuracy                           0.56    202166\n",
            "   macro avg       0.56      0.56      0.56    202166\n",
            "weighted avg       0.56      0.56      0.56    202166\n",
            "\n"
          ]
        }
      ]
    },
    {
      "cell_type": "code",
      "metadata": {
        "id": "PZ-gkRDHViP4"
      },
      "source": [
        "from sklearn.metrics import confusion_matrix, ConfusionMatrixDisplay"
      ],
      "execution_count": null,
      "outputs": []
    },
    {
      "cell_type": "code",
      "metadata": {
        "colab": {
          "base_uri": "https://localhost:8080/",
          "height": 296
        },
        "id": "lZkL4havWEe0",
        "outputId": "c99389d7-18ea-470b-9a58-fc9d59434285"
      },
      "source": [
        "cm = confusion_matrix(y_test, y_hat_w2v_rounded)\n",
        "\n",
        "disp = ConfusionMatrixDisplay(confusion_matrix=cm, display_labels= [0,1])\n",
        "disp.plot()"
      ],
      "execution_count": null,
      "outputs": [
        {
          "output_type": "execute_result",
          "data": {
            "text/plain": [
              "<sklearn.metrics._plot.confusion_matrix.ConfusionMatrixDisplay at 0x7ff9acfcfdd0>"
            ]
          },
          "metadata": {},
          "execution_count": 153
        },
        {
          "output_type": "display_data",
          "data": {
            "image/png": "[encoded data removed]",
            "text/plain": [
              "<Figure size 432x288 with 2 Axes>"
            ]
          },
          "metadata": {
            "needs_background": "light"
          }
        }
      ]
    },
    {
      "cell_type": "code",
      "metadata": {
        "colab": {
          "base_uri": "https://localhost:8080/"
        },
        "id": "NB-d3N_xWob_",
        "outputId": "54798566-df8e-4268-b123-ae188670bff0"
      },
      "source": [
        "cm"
      ],
      "execution_count": null,
      "outputs": [
        {
          "output_type": "execute_result",
          "data": {
            "text/plain": [
              "array([[63143, 37940],\n",
              "       [47889, 53194]])"
            ]
          },
          "metadata": {},
          "execution_count": 64
        }
      ]
    },
    {
      "cell_type": "code",
      "metadata": {
        "id": "E4NdYNgsW4vr",
        "colab": {
          "base_uri": "https://localhost:8080/"
        },
        "outputId": "8deb689b-91df-418f-ca5e-333a1522ad92"
      },
      "source": [
        "cm"
      ],
      "execution_count": null,
      "outputs": [
        {
          "output_type": "execute_result",
          "data": {
            "text/plain": [
              "array([[53785, 47298],\n",
              "       [41834, 59249]])"
            ]
          },
          "metadata": {},
          "execution_count": 154
        }
      ]
    },
    {
      "cell_type": "markdown",
      "metadata": {
        "id": "jBqTEslfIJiM"
      },
      "source": [
        "GloVe embedding"
      ]
    },
    {
      "cell_type": "code",
      "metadata": {
        "colab": {
          "base_uri": "https://localhost:8080/"
        },
        "id": "cIGrf-CKILiL",
        "outputId": "eae80c0b-4f45-4e10-ae97-122c2f8053a9"
      },
      "source": [
        "vocabulary_glove = list(glove.wv.vocab.keys())\n",
        "\n",
        "max_length = 25\n",
        "trunc_type='post'\n",
        "oov_tok = \"<OOV>\"\n",
        "padding = 'pre'\n",
        "\n",
        "a = len(vocabulary_glove)  + 1\n",
        "\n",
        "\n",
        "import tensorflow as tf\n",
        "from tensorflow import keras\n",
        "from tensorflow.keras.preprocessing.text import Tokenizer\n",
        "from tensorflow.keras.preprocessing.sequence import pad_sequences\n",
        "\n",
        "tokenizer = Tokenizer(num_words = a, oov_token=oov_tok, filters= filters)\n",
        "\n",
        "tokenizer.fit_on_texts(train_list)\n",
        "word_index = tokenizer.word_index\n",
        "sequences = tokenizer.texts_to_sequences(train_list)\n",
        "\n",
        "padded_sequences = pad_sequences(sequences, \n",
        "                                 maxlen=max_length, padding = padding, \n",
        "                                 truncating=trunc_type)"
      ],
      "execution_count": null,
      "outputs": [
        {
          "output_type": "stream",
          "name": "stderr",
          "text": [
            "/usr/local/lib/python3.7/dist-packages/ipykernel_launcher.py:1: DeprecationWarning: Call to deprecated `wv` (Attribute will be removed in 4.0.0, use self instead).\n",
            "  \"\"\"Entry point for launching an IPython kernel.\n"
          ]
        }
      ]
    },
    {
      "cell_type": "code",
      "metadata": {
        "id": "mTty1lUHIk-o"
      },
      "source": [
        "tf.keras.backend.clear_session()"
      ],
      "execution_count": null,
      "outputs": []
    },
    {
      "cell_type": "code",
      "metadata": {
        "id": "qSuM3HjLIXsV"
      },
      "source": [
        "x_input = tf.keras.Input(shape=(25,))\n",
        "embedded_sequences = golve_embedding_layer(x_input)\n",
        "seq = tf.keras.layers.LSTM(25)(embedded_sequences)\n",
        "seq = tf.keras.layers.Dense(1, 'sigmoid')(seq)\n",
        "\n",
        "x_subreddit = tf.keras.Input(shape=(1,), dtype=tf.string)\n",
        "x_subreddit_vector = vectorize_layer(x_subreddit)\n",
        "x_s = tf.keras.layers.Dense(1, 'sigmoid')(x_subreddit_vector)\n",
        "\n",
        "\n",
        "\n",
        "x = tf.keras.layers.Add()([seq, x_s])\n",
        "output = tf.keras.layers.Dense(1, 'sigmoid')(x)\n",
        "\n",
        "model_glove = tf.keras.Model([x_input, x_subreddit], output)\n",
        "model_glove.compile(optimizer= tf.keras.optimizers.Adam(learning_rate=0.001),\n",
        "              loss=tf.keras.losses.BinaryCrossentropy(),\n",
        "              metrics=['acc', tf.keras.metrics.AUC()])"
      ],
      "execution_count": null,
      "outputs": []
    },
    {
      "cell_type": "code",
      "metadata": {
        "colab": {
          "base_uri": "https://localhost:8080/"
        },
        "id": "jnZS5I6iL90f",
        "outputId": "0d9f22c9-a886-45d0-fe2e-9be49faf5336"
      },
      "source": [
        "nn_glove = model_glove.fit([padded_sequences, subreddit_train_np], y, \n",
        "           epochs=10, batch_size=64,\n",
        "           validation_data = ([padded_sequences_val, subreddit_val_np], y_val),\n",
        "           #validation_split = 0.2,\n",
        "           callbacks = [early], shuffle = True)"
      ],
      "execution_count": null,
      "outputs": [
        {
          "output_type": "stream",
          "name": "stdout",
          "text": [
            "Epoch 1/10\n",
            "10109/10109 [==============================] - 270s 27ms/step - loss: 0.6881 - acc: 0.5416 - auc: 0.5578 - val_loss: 0.6864 - val_acc: 0.5476 - val_auc: 0.5711\n",
            "Epoch 2/10\n",
            "10109/10109 [==============================] - 267s 26ms/step - loss: 0.6841 - acc: 0.5547 - auc: 0.5769 - val_loss: 0.6834 - val_acc: 0.5562 - val_auc: 0.5796\n",
            "Epoch 3/10\n",
            "10109/10109 [==============================] - 271s 27ms/step - loss: 0.6819 - acc: 0.5612 - auc: 0.5856 - val_loss: 0.6828 - val_acc: 0.5576 - val_auc: 0.5829\n",
            "Epoch 4/10\n",
            "10109/10109 [==============================] - 280s 28ms/step - loss: 0.6801 - acc: 0.5663 - auc: 0.5918 - val_loss: 0.6819 - val_acc: 0.5593 - val_auc: 0.5851\n",
            "Epoch 5/10\n",
            "10109/10109 [==============================] - 326s 32ms/step - loss: 0.6787 - acc: 0.5696 - auc: 0.5965 - val_loss: 0.6817 - val_acc: 0.5600 - val_auc: 0.5864\n",
            "Epoch 6/10\n",
            "10109/10109 [==============================] - 263s 26ms/step - loss: 0.6776 - acc: 0.5730 - auc: 0.6004 - val_loss: 0.6813 - val_acc: 0.5615 - val_auc: 0.5865\n",
            "Epoch 7/10\n",
            "10109/10109 [==============================] - 265s 26ms/step - loss: 0.6766 - acc: 0.5750 - auc: 0.6035 - val_loss: 0.6814 - val_acc: 0.5616 - val_auc: 0.5867\n"
          ]
        }
      ]
    },
    {
      "cell_type": "code",
      "metadata": {
        "id": "cjzbsqk5I9Hy"
      },
      "source": [
        "sequences_test = tokenizer.texts_to_sequences(test_list)\n",
        "\n",
        "padded_sequences_test = pad_sequences(sequences_test, \n",
        "                                 maxlen=max_length, padding = padding, \n",
        "                                 truncating=trunc_type)"
      ],
      "execution_count": null,
      "outputs": []
    },
    {
      "cell_type": "code",
      "metadata": {
        "id": "mvfjT_o_JCb4"
      },
      "source": [
        "y_hat_glove = model_glove.predict([padded_sequences_test, subreddit_test_np])"
      ],
      "execution_count": null,
      "outputs": []
    },
    {
      "cell_type": "code",
      "metadata": {
        "colab": {
          "base_uri": "https://localhost:8080/"
        },
        "id": "vGSrnMYkJFIP",
        "outputId": "36d2f0c9-7992-459a-8944-d0d8272d61ba"
      },
      "source": [
        "y_hat_glove_rounded = np.round(y_hat_glove)\n",
        "\n",
        "print(classification_report(y_test, y_hat_glove_rounded))"
      ],
      "execution_count": null,
      "outputs": [
        {
          "output_type": "stream",
          "name": "stdout",
          "text": [
            "              precision    recall  f1-score   support\n",
            "\n",
            "           0       0.56      0.58      0.57    101083\n",
            "           1       0.56      0.55      0.56    101083\n",
            "\n",
            "    accuracy                           0.56    202166\n",
            "   macro avg       0.56      0.56      0.56    202166\n",
            "weighted avg       0.56      0.56      0.56    202166\n",
            "\n"
          ]
        }
      ]
    },
    {
      "cell_type": "code",
      "metadata": {
        "colab": {
          "base_uri": "https://localhost:8080/",
          "height": 298
        },
        "id": "A4ZRENLHLIRL",
        "outputId": "39e19ab3-2b41-46c7-91d1-126c3e62b312"
      },
      "source": [
        "cm = confusion_matrix(y_test, y_hat_glove_rounded)\n",
        "\n",
        "disp = ConfusionMatrixDisplay(confusion_matrix=cm, display_labels= [0,1])\n",
        "disp.plot()"
      ],
      "execution_count": null,
      "outputs": [
        {
          "output_type": "execute_result",
          "data": {
            "text/plain": [
              "<sklearn.metrics._plot.confusion_matrix.ConfusionMatrixDisplay at 0x7ff9b11538d0>"
            ]
          },
          "metadata": {},
          "execution_count": 164
        },
        {
          "output_type": "display_data",
          "data": {
            "image/png": "[encoded data removed]",
            "text/plain": [
              "<Figure size 432x288 with 2 Axes>"
            ]
          },
          "metadata": {
            "needs_background": "light"
          }
        }
      ]
    },
    {
      "cell_type": "code",
      "metadata": {
        "colab": {
          "base_uri": "https://localhost:8080/"
        },
        "id": "sxg8EnA6LI-6",
        "outputId": "b1d02930-abbd-4e34-f9b9-7162a540ff1c"
      },
      "source": [
        "cm = confusion_matrix(y_test, y_hat_glove_rounded)\n",
        "cm"
      ],
      "execution_count": null,
      "outputs": [
        {
          "output_type": "execute_result",
          "data": {
            "text/plain": [
              "array([[58192, 42891],\n",
              "       [45721, 55362]])"
            ]
          },
          "metadata": {},
          "execution_count": 165
        }
      ]
    },
    {
      "cell_type": "code",
      "metadata": {
        "id": "aAjetX_TLLbl"
      },
      "source": [
        "from sklearn.metrics import roc_curve\n",
        "from sklearn.metrics import RocCurveDisplay"
      ],
      "execution_count": null,
      "outputs": []
    },
    {
      "cell_type": "code",
      "metadata": {
        "id": "MZsSlApnOWuf"
      },
      "source": [
        "fpr, tpr, thresholds = roc_curve(y_test, y_hat_w2v, pos_label=1)\n",
        "fpr_glove, tpr_glove, thresholds_glove = roc_curve(y_test, y_hat_glove, pos_label=1)"
      ],
      "execution_count": null,
      "outputs": []
    },
    {
      "cell_type": "code",
      "metadata": {
        "colab": {
          "base_uri": "https://localhost:8080/",
          "height": 295
        },
        "id": "ka9McZpeOdrz",
        "outputId": "66863292-cb91-4db8-de27-89d765bfb7d6"
      },
      "source": [
        "plt.figure()\n",
        "lw = 2\n",
        "plt.plot(fpr, tpr, color='darkorange', label='ROC curve Word2Vec')\n",
        "plt.plot(fpr_glove, tpr_glove, color='darkred', label='ROC curve GloVe')\n",
        "plt.plot([0, 1], [0, 1], color='navy', lw=lw, linestyle='--')\n",
        "plt.xlim([0.0, 1.0])\n",
        "plt.ylim([0.0, 1.05])\n",
        "plt.xlabel('False Positive Rate')\n",
        "plt.ylabel('True Positive Rate')\n",
        "plt.title('Receiver operating characteristic')\n",
        "plt.legend(loc=\"lower right\")\n",
        "plt.show()"
      ],
      "execution_count": null,
      "outputs": [
        {
          "output_type": "display_data",
          "data": {
            "image/png": "[encoded data removed]",
            "text/plain": [
              "<Figure size 432x288 with 1 Axes>"
            ]
          },
          "metadata": {
            "needs_background": "light"
          }
        }
      ]
    },
    {
      "cell_type": "code",
      "metadata": {
        "id": "YaRzGjJBOlVy"
      },
      "source": [
        "glove_val_acc = nn_glove.history['val_acc']\n",
        "w2v_val_acc = nn.history['val_acc']\n",
        "\n",
        "glove__acc = nn_glove.history['acc']\n",
        "w2v__acc = nn.history['acc']"
      ],
      "execution_count": null,
      "outputs": []
    },
    {
      "cell_type": "code",
      "metadata": {
        "colab": {
          "base_uri": "https://localhost:8080/",
          "height": 295
        },
        "id": "llB6AX2nUok9",
        "outputId": "f4a5a800-ffd2-4a69-8b7f-775bcc6061d4"
      },
      "source": [
        "plt.plot(glove_val_acc, color = 'red', label = 'GloVe Val Acc.')\n",
        "plt.plot(glove__acc, color = 'darkred', label = 'GloVe Acc.')\n",
        "plt.plot(w2v_val_acc, color = 'lightblue', label = 'W2V Val Acc.')\n",
        "plt.plot(w2v__acc, color = 'blue', label = 'W2V Acc.')\n",
        "plt.xlabel('Epochs')\n",
        "plt.ylabel('Accuracy')\n",
        "plt.title('Accuracy')\n",
        "plt.legend(loc=\"lower right\")\n",
        "plt.show()"
      ],
      "execution_count": null,
      "outputs": [
        {
          "output_type": "display_data",
          "data": {
            "image/png": "[encoded data removed]",
            "text/plain": [
              "<Figure size 432x288 with 1 Axes>"
            ]
          },
          "metadata": {
            "needs_background": "light"
          }
        }
      ]
    },
    {
      "cell_type": "code",
      "metadata": {
        "id": "EVaCXpKlU0__"
      },
      "source": [
        ""
      ],
      "execution_count": null,
      "outputs": []
    }
  ]
}