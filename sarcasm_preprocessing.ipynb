{
  "nbformat": 4,
  "nbformat_minor": 0,
  "metadata": {
    "colab": {
      "name": "sarcasm preprocessing.ipynb",
      "provenance": [],
      "collapsed_sections": [],
      "authorship_tag": "ABX9TyNKlfzh0I6QXQ137y9bVCD0",
      "include_colab_link": true
    },
    "kernelspec": {
      "display_name": "Python 3",
      "name": "python3"
    },
    "language_info": {
      "name": "python"
    }
  },
  "cells": [
    {
      "cell_type": "markdown",
      "metadata": {
        "id": "view-in-github",
        "colab_type": "text"
      },
      "source": [
        "<a href=\"https://colab.research.google.com/github/Oviing/nlp/blob/main/sarcasm_preprocessing.ipynb\" target=\"_parent\"><img src=\"https://colab.research.google.com/assets/colab-badge.svg\" alt=\"Open In Colab\"/></a>"
      ]
    },
    {
      "cell_type": "code",
      "metadata": {
        "colab": {
          "base_uri": "https://localhost:8080/"
        },
        "id": "Q83SghThlhKa",
        "outputId": "b527f196-97e6-4538-99aa-1c00c3047228"
      },
      "source": [
        "import numpy as np\n",
        "import pandas as pd\n",
        "import matplotlib.pyplot as plt\n",
        "# import kaggle\n",
        "from nltk.corpus import stopwords\n",
        "from nltk.tokenize import word_tokenize\n",
        "from sklearn.feature_extraction.text import CountVectorizer\n",
        "from sklearn.feature_extraction.text import TfidfVectorizer\n",
        "from sklearn.pipeline import Pipeline\n",
        "\n",
        "from sklearn.model_selection import train_test_split\n",
        "\n",
        "import spacy\n",
        "\n",
        "import nltk\n",
        "nltk.download('punkt')\n",
        "nltk.download('stopwords')"
      ],
      "execution_count": null,
      "outputs": [
        {
          "name": "stdout",
          "output_type": "stream",
          "text": [
            "[nltk_data] Downloading package punkt to /root/nltk_data...\n",
            "[nltk_data]   Unzipping tokenizers/punkt.zip.\n",
            "[nltk_data] Downloading package stopwords to /root/nltk_data...\n",
            "[nltk_data]   Unzipping corpora/stopwords.zip.\n"
          ]
        },
        {
          "data": {
            "text/plain": [
              "True"
            ]
          },
          "execution_count": 1,
          "metadata": {},
          "output_type": "execute_result"
        }
      ]
    },
    {
      "cell_type": "markdown",
      "metadata": {
        "id": "WajZibPKlhpw"
      },
      "source": [
        "Download Dataset from Kaggle"
      ]
    },
    {
      "cell_type": "code",
      "metadata": {
        "colab": {
          "resources": {
            "http://localhost:8080/nbextensions/google.colab/files.js": {
              "data": "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",
              "headers": [
                [
                  "content-type",
                  "application/javascript"
                ]
              ],
              "ok": true,
              "status": 200,
              "status_text": ""
            }
          },
          "base_uri": "https://localhost:8080/",
          "height": 90
        },
        "id": "TeLYV-x3lWyT",
        "outputId": "ac142d4a-070a-4487-d562-085cf4218ede"
      },
      "source": [
        "from google.colab import files\n",
        "\n",
        "uploaded = files.upload()\n",
        "\n",
        "for fn in uploaded.keys():\n",
        "  print('User uploaded file \"{name}\" with length {length} bytes'.format(\n",
        "      name=fn, length=len(uploaded[fn])))\n",
        "  \n",
        "# Then move kaggle.json into the folder where the API expects to find it.\n",
        "!mkdir -p ~/.kaggle/ && mv kaggle.json ~/.kaggle/ && chmod 600 ~/.kaggle/kaggle.json"
      ],
      "execution_count": null,
      "outputs": [
        {
          "data": {
            "text/html": [
              "\n",
              "     <input type=\"file\" id=\"files-8a722df6-0a6f-47a4-9858-52771a2fb302\" name=\"files[]\" multiple disabled\n",
              "        style=\"border:none\" />\n",
              "     <output id=\"result-8a722df6-0a6f-47a4-9858-52771a2fb302\">\n",
              "      Upload widget is only available when the cell has been executed in the\n",
              "      current browser session. Please rerun this cell to enable.\n",
              "      </output>\n",
              "      <script src=\"/nbextensions/google.colab/files.js\"></script> "
            ],
            "text/plain": [
              "<IPython.core.display.HTML object>"
            ]
          },
          "metadata": {},
          "output_type": "display_data"
        },
        {
          "name": "stdout",
          "output_type": "stream",
          "text": [
            "Saving kaggle.json to kaggle.json\n",
            "User uploaded file \"kaggle.json\" with length 62 bytes\n"
          ]
        }
      ]
    },
    {
      "cell_type": "code",
      "metadata": {
        "colab": {
          "base_uri": "https://localhost:8080/"
        },
        "id": "EFNTguY6ltRH",
        "outputId": "4b45495e-8d21-427b-b78c-8025647bf31b"
      },
      "source": [
        "!kaggle datasets download -d danofer/sarcasm"
      ],
      "execution_count": null,
      "outputs": [
        {
          "name": "stdout",
          "output_type": "stream",
          "text": [
            "Downloading sarcasm.zip to /content\n",
            " 93% 201M/216M [00:02<00:00, 86.6MB/s]\n",
            "100% 216M/216M [00:02<00:00, 86.2MB/s]\n"
          ]
        }
      ]
    },
    {
      "cell_type": "code",
      "metadata": {
        "colab": {
          "base_uri": "https://localhost:8080/"
        },
        "id": "uG5dj32bn5XL",
        "outputId": "4bf1535e-dc5b-47c7-ed66-c39074051103"
      },
      "source": [
        "!unzip sarcasm.zip"
      ],
      "execution_count": null,
      "outputs": [
        {
          "name": "stdout",
          "output_type": "stream",
          "text": [
            "Archive:  sarcasm.zip\n",
            "  inflating: test-balanced.csv       \n",
            "  inflating: test-unbalanced.csv     \n",
            "  inflating: train-balanced-sarc.csv.gz  \n",
            "  inflating: train-balanced-sarcasm.csv  \n"
          ]
        }
      ]
    },
    {
      "cell_type": "markdown",
      "metadata": {
        "id": "YuFm9UBTmFF1"
      },
      "source": [
        "Open data file"
      ]
    },
    {
      "cell_type": "code",
      "metadata": {
        "id": "9h8F437ylkFk"
      },
      "source": [
        "sarcasm = pd.read_csv('/content/train-balanced-sarcasm.csv')"
      ],
      "execution_count": null,
      "outputs": []
    },
    {
      "cell_type": "code",
      "metadata": {
        "colab": {
          "base_uri": "https://localhost:8080/",
          "height": 408
        },
        "id": "jgDeB-Ozn9Xo",
        "outputId": "e540ddb3-4c63-44b6-d9df-cabedaf7bbb7"
      },
      "source": [
        "sarcasm.head()"
      ],
      "execution_count": null,
      "outputs": [
        {
          "data": {
            "text/html": [
              "<div>\n",
              "<style scoped>\n",
              "    .dataframe tbody tr th:only-of-type {\n",
              "        vertical-align: middle;\n",
              "    }\n",
              "\n",
              "    .dataframe tbody tr th {\n",
              "        vertical-align: top;\n",
              "    }\n",
              "\n",
              "    .dataframe thead th {\n",
              "        text-align: right;\n",
              "    }\n",
              "</style>\n",
              "<table border=\"1\" class=\"dataframe\">\n",
              "  <thead>\n",
              "    <tr style=\"text-align: right;\">\n",
              "      <th></th>\n",
              "      <th>label</th>\n",
              "      <th>comment</th>\n",
              "      <th>author</th>\n",
              "      <th>subreddit</th>\n",
              "      <th>score</th>\n",
              "      <th>ups</th>\n",
              "      <th>downs</th>\n",
              "      <th>date</th>\n",
              "      <th>created_utc</th>\n",
              "      <th>parent_comment</th>\n",
              "    </tr>\n",
              "  </thead>\n",
              "  <tbody>\n",
              "    <tr>\n",
              "      <th>0</th>\n",
              "      <td>0</td>\n",
              "      <td>NC and NH.</td>\n",
              "      <td>Trumpbart</td>\n",
              "      <td>politics</td>\n",
              "      <td>2</td>\n",
              "      <td>-1</td>\n",
              "      <td>-1</td>\n",
              "      <td>2016-10</td>\n",
              "      <td>2016-10-16 23:55:23</td>\n",
              "      <td>Yeah, I get that argument. At this point, I'd ...</td>\n",
              "    </tr>\n",
              "    <tr>\n",
              "      <th>1</th>\n",
              "      <td>0</td>\n",
              "      <td>You do know west teams play against west teams...</td>\n",
              "      <td>Shbshb906</td>\n",
              "      <td>nba</td>\n",
              "      <td>-4</td>\n",
              "      <td>-1</td>\n",
              "      <td>-1</td>\n",
              "      <td>2016-11</td>\n",
              "      <td>2016-11-01 00:24:10</td>\n",
              "      <td>The blazers and Mavericks (The wests 5 and 6 s...</td>\n",
              "    </tr>\n",
              "    <tr>\n",
              "      <th>2</th>\n",
              "      <td>0</td>\n",
              "      <td>They were underdogs earlier today, but since G...</td>\n",
              "      <td>Creepeth</td>\n",
              "      <td>nfl</td>\n",
              "      <td>3</td>\n",
              "      <td>3</td>\n",
              "      <td>0</td>\n",
              "      <td>2016-09</td>\n",
              "      <td>2016-09-22 21:45:37</td>\n",
              "      <td>They're favored to win.</td>\n",
              "    </tr>\n",
              "    <tr>\n",
              "      <th>3</th>\n",
              "      <td>0</td>\n",
              "      <td>This meme isn't funny none of the \"new york ni...</td>\n",
              "      <td>icebrotha</td>\n",
              "      <td>BlackPeopleTwitter</td>\n",
              "      <td>-8</td>\n",
              "      <td>-1</td>\n",
              "      <td>-1</td>\n",
              "      <td>2016-10</td>\n",
              "      <td>2016-10-18 21:03:47</td>\n",
              "      <td>deadass don't kill my buzz</td>\n",
              "    </tr>\n",
              "    <tr>\n",
              "      <th>4</th>\n",
              "      <td>0</td>\n",
              "      <td>I could use one of those tools.</td>\n",
              "      <td>cush2push</td>\n",
              "      <td>MaddenUltimateTeam</td>\n",
              "      <td>6</td>\n",
              "      <td>-1</td>\n",
              "      <td>-1</td>\n",
              "      <td>2016-12</td>\n",
              "      <td>2016-12-30 17:00:13</td>\n",
              "      <td>Yep can confirm I saw the tool they use for th...</td>\n",
              "    </tr>\n",
              "  </tbody>\n",
              "</table>\n",
              "</div>"
            ],
            "text/plain": [
              "   label  ...                                     parent_comment\n",
              "0      0  ...  Yeah, I get that argument. At this point, I'd ...\n",
              "1      0  ...  The blazers and Mavericks (The wests 5 and 6 s...\n",
              "2      0  ...                            They're favored to win.\n",
              "3      0  ...                         deadass don't kill my buzz\n",
              "4      0  ...  Yep can confirm I saw the tool they use for th...\n",
              "\n",
              "[5 rows x 10 columns]"
            ]
          },
          "execution_count": 6,
          "metadata": {},
          "output_type": "execute_result"
        }
      ]
    },
    {
      "cell_type": "markdown",
      "metadata": {
        "id": "YN4UaMM_mvCl"
      },
      "source": [
        "Creating training and test set\n",
        "\n",
        "80% training set and 20% test set"
      ]
    },
    {
      "cell_type": "code",
      "metadata": {
        "id": "WncoOkcXm1Du"
      },
      "source": [
        "X = sarcasm[['parent_comment', 'subreddit']].values\n",
        "y = sarcasm['label'].values"
      ],
      "execution_count": null,
      "outputs": []
    },
    {
      "cell_type": "code",
      "metadata": {
        "id": "l3A6X2Ifm5k2"
      },
      "source": [
        "X_train, X_test = train_test_split(sarcasm, test_size = 0.2, random_state =42,stratify = sarcasm['label'])"
      ],
      "execution_count": null,
      "outputs": []
    },
    {
      "cell_type": "code",
      "metadata": {
        "colab": {
          "base_uri": "https://localhost:8080/",
          "height": 462
        },
        "id": "59fiDnz7oM1M",
        "outputId": "04a3c841-00e3-4f91-d35c-9491c8306435"
      },
      "source": [
        "X_train.head()"
      ],
      "execution_count": null,
      "outputs": [
        {
          "data": {
            "text/html": [
              "<div>\n",
              "<style scoped>\n",
              "    .dataframe tbody tr th:only-of-type {\n",
              "        vertical-align: middle;\n",
              "    }\n",
              "\n",
              "    .dataframe tbody tr th {\n",
              "        vertical-align: top;\n",
              "    }\n",
              "\n",
              "    .dataframe thead th {\n",
              "        text-align: right;\n",
              "    }\n",
              "</style>\n",
              "<table border=\"1\" class=\"dataframe\">\n",
              "  <thead>\n",
              "    <tr style=\"text-align: right;\">\n",
              "      <th></th>\n",
              "      <th>label</th>\n",
              "      <th>comment</th>\n",
              "      <th>author</th>\n",
              "      <th>subreddit</th>\n",
              "      <th>score</th>\n",
              "      <th>ups</th>\n",
              "      <th>downs</th>\n",
              "      <th>date</th>\n",
              "      <th>created_utc</th>\n",
              "      <th>parent_comment</th>\n",
              "    </tr>\n",
              "  </thead>\n",
              "  <tbody>\n",
              "    <tr>\n",
              "      <th>928042</th>\n",
              "      <td>0</td>\n",
              "      <td>Central Illinois</td>\n",
              "      <td>ocxtitan</td>\n",
              "      <td>AdviceAnimals</td>\n",
              "      <td>1</td>\n",
              "      <td>1</td>\n",
              "      <td>0</td>\n",
              "      <td>2013-09</td>\n",
              "      <td>2013-09-10 22:39:41</td>\n",
              "      <td>Jesus, where do you live?</td>\n",
              "    </tr>\n",
              "    <tr>\n",
              "      <th>563885</th>\n",
              "      <td>0</td>\n",
              "      <td>To think - CNN used to be the acronym synonymo...</td>\n",
              "      <td>LeChuckly</td>\n",
              "      <td>POLITIC</td>\n",
              "      <td>2</td>\n",
              "      <td>2</td>\n",
              "      <td>0</td>\n",
              "      <td>2015-09</td>\n",
              "      <td>2015-09-11 15:51:39</td>\n",
              "      <td>Even The CNN Staff Is Sick Of The Wall-To-Wall...</td>\n",
              "    </tr>\n",
              "    <tr>\n",
              "      <th>754036</th>\n",
              "      <td>0</td>\n",
              "      <td>But then again, you have to consider that all ...</td>\n",
              "      <td>throwitskrub8</td>\n",
              "      <td>india</td>\n",
              "      <td>1</td>\n",
              "      <td>1</td>\n",
              "      <td>0</td>\n",
              "      <td>2014-12</td>\n",
              "      <td>2014-12-08 11:58:01</td>\n",
              "      <td>agree to that part.It can also mean that gujra...</td>\n",
              "    </tr>\n",
              "    <tr>\n",
              "      <th>361336</th>\n",
              "      <td>0</td>\n",
              "      <td>ughhhhh</td>\n",
              "      <td>fresherthanyouuu</td>\n",
              "      <td>AskWomen</td>\n",
              "      <td>2</td>\n",
              "      <td>2</td>\n",
              "      <td>0</td>\n",
              "      <td>2015-11</td>\n",
              "      <td>2015-11-23 12:48:09</td>\n",
              "      <td>If a guy told you he doesn't use social media ...</td>\n",
              "    </tr>\n",
              "    <tr>\n",
              "      <th>930956</th>\n",
              "      <td>1</td>\n",
              "      <td>To ensure you're never late to the hairdressers.</td>\n",
              "      <td>markspyguy</td>\n",
              "      <td>carporn</td>\n",
              "      <td>1</td>\n",
              "      <td>1</td>\n",
              "      <td>0</td>\n",
              "      <td>2013-05</td>\n",
              "      <td>2013-05-26 05:31:32</td>\n",
              "      <td>2011 BMW Z4 GT3</td>\n",
              "    </tr>\n",
              "  </tbody>\n",
              "</table>\n",
              "</div>"
            ],
            "text/plain": [
              "        label  ...                                     parent_comment\n",
              "928042      0  ...                          Jesus, where do you live?\n",
              "563885      0  ...  Even The CNN Staff Is Sick Of The Wall-To-Wall...\n",
              "754036      0  ...  agree to that part.It can also mean that gujra...\n",
              "361336      0  ...  If a guy told you he doesn't use social media ...\n",
              "930956      1  ...                                    2011 BMW Z4 GT3\n",
              "\n",
              "[5 rows x 10 columns]"
            ]
          },
          "execution_count": 8,
          "metadata": {},
          "output_type": "execute_result"
        }
      ]
    },
    {
      "cell_type": "code",
      "metadata": {
        "colab": {
          "base_uri": "https://localhost:8080/",
          "height": 476
        },
        "id": "ySRU8ZaWoXbm",
        "outputId": "4fa99441-1c6e-48eb-e44c-227c3580cb26"
      },
      "source": [
        "X_test.head()"
      ],
      "execution_count": null,
      "outputs": [
        {
          "data": {
            "text/html": [
              "<div>\n",
              "<style scoped>\n",
              "    .dataframe tbody tr th:only-of-type {\n",
              "        vertical-align: middle;\n",
              "    }\n",
              "\n",
              "    .dataframe tbody tr th {\n",
              "        vertical-align: top;\n",
              "    }\n",
              "\n",
              "    .dataframe thead th {\n",
              "        text-align: right;\n",
              "    }\n",
              "</style>\n",
              "<table border=\"1\" class=\"dataframe\">\n",
              "  <thead>\n",
              "    <tr style=\"text-align: right;\">\n",
              "      <th></th>\n",
              "      <th>label</th>\n",
              "      <th>comment</th>\n",
              "      <th>author</th>\n",
              "      <th>subreddit</th>\n",
              "      <th>score</th>\n",
              "      <th>ups</th>\n",
              "      <th>downs</th>\n",
              "      <th>date</th>\n",
              "      <th>created_utc</th>\n",
              "      <th>parent_comment</th>\n",
              "    </tr>\n",
              "  </thead>\n",
              "  <tbody>\n",
              "    <tr>\n",
              "      <th>873845</th>\n",
              "      <td>1</td>\n",
              "      <td>Such a beautiful sport</td>\n",
              "      <td>parko4</td>\n",
              "      <td>funny</td>\n",
              "      <td>-4</td>\n",
              "      <td>-4</td>\n",
              "      <td>0</td>\n",
              "      <td>2014-06</td>\n",
              "      <td>2014-06-10 18:20:56</td>\n",
              "      <td>And the Oscar goes to...</td>\n",
              "    </tr>\n",
              "    <tr>\n",
              "      <th>279738</th>\n",
              "      <td>1</td>\n",
              "      <td>Well fuck you too.</td>\n",
              "      <td>favoritedisguise</td>\n",
              "      <td>nba</td>\n",
              "      <td>2</td>\n",
              "      <td>2</td>\n",
              "      <td>0</td>\n",
              "      <td>2016-06</td>\n",
              "      <td>2016-06-20 04:20:33</td>\n",
              "      <td>Whys everybody gotta be so mother fucking frie...</td>\n",
              "    </tr>\n",
              "    <tr>\n",
              "      <th>410011</th>\n",
              "      <td>1</td>\n",
              "      <td>Can't tell if</td>\n",
              "      <td>Hold_onto_yer_butts</td>\n",
              "      <td>worldnews</td>\n",
              "      <td>3</td>\n",
              "      <td>3</td>\n",
              "      <td>0</td>\n",
              "      <td>2015-11</td>\n",
              "      <td>2015-11-03 19:41:48</td>\n",
              "      <td>I feel like just giving money to get stuff don...</td>\n",
              "    </tr>\n",
              "    <tr>\n",
              "      <th>786465</th>\n",
              "      <td>1</td>\n",
              "      <td>Just like the HPV vaccine increases sexual act...</td>\n",
              "      <td>liewor</td>\n",
              "      <td>worldnews</td>\n",
              "      <td>2</td>\n",
              "      <td>2</td>\n",
              "      <td>0</td>\n",
              "      <td>2015-04</td>\n",
              "      <td>2015-04-24 19:49:08</td>\n",
              "      <td>Cuba has had a lung cancer vaccine for years. ...</td>\n",
              "    </tr>\n",
              "    <tr>\n",
              "      <th>328438</th>\n",
              "      <td>0</td>\n",
              "      <td>There goes my hope that Kubo does a Kojima as ...</td>\n",
              "      <td>Ellefied</td>\n",
              "      <td>bleach</td>\n",
              "      <td>3</td>\n",
              "      <td>3</td>\n",
              "      <td>0</td>\n",
              "      <td>2016-08</td>\n",
              "      <td>2016-08-18 12:29:47</td>\n",
              "      <td>Plus the Japanese typically do not talk shit w...</td>\n",
              "    </tr>\n",
              "  </tbody>\n",
              "</table>\n",
              "</div>"
            ],
            "text/plain": [
              "        label  ...                                     parent_comment\n",
              "873845      1  ...                           And the Oscar goes to...\n",
              "279738      1  ...  Whys everybody gotta be so mother fucking frie...\n",
              "410011      1  ...  I feel like just giving money to get stuff don...\n",
              "786465      1  ...  Cuba has had a lung cancer vaccine for years. ...\n",
              "328438      0  ...  Plus the Japanese typically do not talk shit w...\n",
              "\n",
              "[5 rows x 10 columns]"
            ]
          },
          "execution_count": 9,
          "metadata": {},
          "output_type": "execute_result"
        }
      ]
    },
    {
      "cell_type": "markdown",
      "metadata": {
        "id": "zj_05x3-mG7x"
      },
      "source": [
        "Preprocess data"
      ]
    },
    {
      "cell_type": "markdown",
      "metadata": {
        "id": "6Uo6sB68mbpp"
      },
      "source": [
        "Preprocesssing classes"
      ]
    },
    {
      "cell_type": "code",
      "metadata": {
        "id": "sN3XR0q9mJas"
      },
      "source": [
        "class CleanText():\n",
        "    \n",
        "    def __init__(self):\n",
        "        return\n",
        "        \n",
        "    def fit(self, X, y = None):\n",
        "        return self\n",
        "    \n",
        "    def clean_punctuation(self, x):\n",
        "        \n",
        "        #returns a list with tokinized words. Each string is a seperate element of the list\n",
        "        x = str(x)\n",
        "        w = word_tokenize(x)\n",
        "        \n",
        "        #removes all non alphabetic characters\n",
        "        clean_list = [i for i in w if i.isalpha()]\n",
        "        \n",
        "        return clean_list\n",
        "    \n",
        "    def transform(self, X, y = None):\n",
        "        \n",
        "        l = []\n",
        "        \n",
        "        for i in X:\n",
        "            \n",
        "            cp = self.clean_punctuation(i)\n",
        "            l.append(cp)\n",
        "        \n",
        "        \n",
        "        return l\n",
        "\n",
        "class Stop():\n",
        "    \n",
        "    def __init__(self, language):\n",
        "        self.lang = language\n",
        "        \n",
        "    def fit(self, X, y = None):\n",
        "        return self\n",
        "    \n",
        "    def remove_stop_words(self, x):\n",
        "        cleaned_list = [w for w in x if not w in stopwords.words(self.lang)]\n",
        "        return cleaned_list\n",
        "    \n",
        "    def transform(self, X, y = None):\n",
        "        l = []\n",
        "        for i in X:\n",
        "            cleaned_sublist = self.remove_stop_words(i)\n",
        "            l.append(cleaned_sublist)\n",
        "        \n",
        "        return l\n",
        "\n",
        "class Flatten():\n",
        "    def __init__(self):\n",
        "        return\n",
        "    \n",
        "    def fit(self, X, y = None):\n",
        "        return self\n",
        "    \n",
        "    def transform(self, X, y = None):\n",
        "        \n",
        "        flatten = [item for sublist in X for item in sublist]\n",
        "        \n",
        "        return flatten\n",
        "\n",
        "class Lower():\n",
        "    def __init__(self):\n",
        "        return\n",
        "    \n",
        "    def fit(self, X, y = None):\n",
        "        return self\n",
        "    \n",
        "    def transform(self, X, y = None):\n",
        "        \n",
        "        lower_list = []\n",
        "        for i in X:\n",
        "            X_actual = i\n",
        "            lower = [x.lower() for x in X_actual]\n",
        "            lower_list.append(lower)\n",
        "        \n",
        "        list_of_list_to_string = [' '.join(l) for l in lower_list]\n",
        "                          \n",
        "        return list_of_list_to_string\n",
        "\n",
        "class NotSparse():\n",
        "    \n",
        "    def __init__(self):\n",
        "        return\n",
        "    def fit(self, X, y = None):\n",
        "        return self\n",
        "    def transform(self, X, y = None):\n",
        "        return X.toarray()"
      ],
      "execution_count": null,
      "outputs": []
    },
    {
      "cell_type": "code",
      "metadata": {
        "id": "3do9aeeQnQz6"
      },
      "source": [
        "nlp = spacy.load('en_core_web_sm')"
      ],
      "execution_count": null,
      "outputs": []
    },
    {
      "cell_type": "code",
      "metadata": {
        "id": "eMWVDTgKmRXa"
      },
      "source": [
        "def spacy_process(text):\n",
        "    doc = nlp(text)\n",
        "    \n",
        "  #Tokenization and lemmatization are done with the spacy nlp pipeline commands\n",
        "    lemma_list = []\n",
        "    for token in doc:\n",
        "        lemma_list.append(token.lemma_)\n",
        "    #print(\"Tokenize+Lemmatize:\")\n",
        "    #print(lemma_list)\n",
        "    \n",
        "    #Filter the stopword\n",
        "    filtered_sentence =[] \n",
        "    for word in lemma_list:\n",
        "        lexeme = nlp.vocab[word]\n",
        "        if lexeme.is_stop == False:\n",
        "            filtered_sentence.append(word) \n",
        "    \n",
        "    #Remove punctuation\n",
        "    punctuations=\"?:!.,;\"\n",
        "    for word in filtered_sentence:\n",
        "        if word in punctuations:\n",
        "            filtered_sentence.remove(word)\n",
        "   # print(\" \")\n",
        "   # print(\"Remove stopword & punctuation: \")\n",
        "   # print(filtered_sentence)\n",
        "    listToStr = ' '.join([str(elem) for elem in filtered_sentence])\n",
        "    return listToStr"
      ],
      "execution_count": null,
      "outputs": []
    },
    {
      "cell_type": "markdown",
      "metadata": {
        "id": "A2NARHssmfie"
      },
      "source": [
        "Preprocess"
      ]
    },
    {
      "cell_type": "code",
      "metadata": {
        "id": "PuVOs0ygohjM"
      },
      "source": [
        "X_train_text = X_train['parent_comment'].values.tolist()\n",
        "X_test_text = X_test['parent_comment'].values.tolist()"
      ],
      "execution_count": null,
      "outputs": []
    },
    {
      "cell_type": "code",
      "metadata": {
        "id": "WsaF7A6bmevz"
      },
      "source": [
        "pipe = Pipeline([(\"Remove_Punktuation\", CleanText()),\n",
        "                 (\"Stopwords\", Stop('english')),\n",
        "                  (\"Lower_case\", Lower())])\n",
        "                 #(\"TFIDF\" , TfidfVectorizer()),\n",
        "                 #(\"NOT_SPARSE\", NotSparse())])"
      ],
      "execution_count": null,
      "outputs": []
    },
    {
      "cell_type": "code",
      "metadata": {
        "colab": {
          "base_uri": "https://localhost:8080/"
        },
        "id": "ToLzj6t9mhL-",
        "outputId": "d2fb614f-aa5a-4737-8f2e-2f3c189dd81b"
      },
      "source": [
        "pipe.fit(X_train_text)"
      ],
      "execution_count": null,
      "outputs": [
        {
          "data": {
            "text/plain": [
              "Pipeline(memory=None,\n",
              "         steps=[('Remove_Punktuation',\n",
              "                 <__main__.CleanText object at 0x7f779f098110>),\n",
              "                ('Stopwords', <__main__.Stop object at 0x7f779f098150>),\n",
              "                ('Lower_case', <__main__.Lower object at 0x7f779f098190>)],\n",
              "         verbose=False)"
            ]
          },
          "execution_count": 13,
          "metadata": {},
          "output_type": "execute_result"
        }
      ]
    },
    {
      "cell_type": "code",
      "metadata": {
        "id": "cdUZVemCmoZ7"
      },
      "source": [
        "pipe_training_set = pipe.transform(X_train_text)"
      ],
      "execution_count": null,
      "outputs": []
    },
    {
      "cell_type": "code",
      "metadata": {
        "id": "Aj_RmitpmqwL"
      },
      "source": [
        "pipe_test_set = pipe.transform(X_test_text)"
      ],
      "execution_count": null,
      "outputs": []
    },
    {
      "cell_type": "code",
      "metadata": {
        "colab": {
          "base_uri": "https://localhost:8080/"
        },
        "id": "zLWYmXVU1fnZ",
        "outputId": "32454fbb-ebd8-4976-bd44-1bada14860f5"
      },
      "source": [
        "len(pipe_training_set), len(X_train)"
      ],
      "execution_count": null,
      "outputs": [
        {
          "data": {
            "text/plain": [
              "(808660, 808660)"
            ]
          },
          "execution_count": 17,
          "metadata": {},
          "output_type": "execute_result"
        }
      ]
    },
    {
      "cell_type": "code",
      "metadata": {
        "colab": {
          "base_uri": "https://localhost:8080/",
          "height": 142
        },
        "id": "lA5YerT7nbc2",
        "outputId": "af81f894-d586-4528-a27f-186fca68a408"
      },
      "source": [
        "spacy_process(X_train_text[1])"
      ],
      "execution_count": null,
      "outputs": [
        {
          "name": "stdout",
          "output_type": "stream",
          "text": [
            "Tokenize+Lemmatize:\n",
            "['even', 'the', 'CNN', 'Staff', 'be', 'Sick', 'of', 'the', 'Wall', '-', 'To', '-', 'Wall', 'Trump', 'Coverage']\n",
            " \n",
            "Remove stopword & punctuation: \n",
            "['CNN', 'Staff', 'Sick', 'Wall', '-', '-', 'Wall', 'Trump', 'Coverage']\n"
          ]
        },
        {
          "data": {
            "application/vnd.google.colaboratory.intrinsic+json": {
              "type": "string"
            },
            "text/plain": [
              "'CNN Staff Sick Wall - - Wall Trump Coverage'"
            ]
          },
          "execution_count": 42,
          "metadata": {},
          "output_type": "execute_result"
        }
      ]
    },
    {
      "cell_type": "code",
      "metadata": {
        "id": "ebk-TFiyRwN-"
      },
      "source": [
        "doc = nlp(X_train_text[0])"
      ],
      "execution_count": null,
      "outputs": []
    },
    {
      "cell_type": "code",
      "metadata": {
        "colab": {
          "base_uri": "https://localhost:8080/"
        },
        "id": "GrVcE_3ORz-O",
        "outputId": "5fc0ae87-5313-46b4-9b5c-9225d3dd5bba"
      },
      "source": [
        "for token in doc:\n",
        "  print(token.lemma_)"
      ],
      "execution_count": null,
      "outputs": [
        {
          "name": "stdout",
          "output_type": "stream",
          "text": [
            "Jesus\n",
            ",\n",
            "where\n",
            "do\n",
            "-PRON-\n",
            "live\n",
            "?\n"
          ]
        }
      ]
    },
    {
      "cell_type": "code",
      "metadata": {
        "colab": {
          "background_save": true
        },
        "id": "7tS6s5sAmlny"
      },
      "source": [
        "pipe_training_set = []\n",
        "\n",
        "for i in range(0, len(X_train_text)):\n",
        "  doc = X_train_text[i]\n",
        "  doc_preprocessed = spacy_process(doc)\n",
        "  pipe_training_set.append(doc_preprocessed)"
      ],
      "execution_count": null,
      "outputs": []
    },
    {
      "cell_type": "code",
      "metadata": {
        "colab": {
          "background_save": true
        },
        "id": "wLpOGkZNTScl"
      },
      "source": [
        "pipe_test_set = []\n",
        "\n",
        "for i in range(0, len(X_test_text)):\n",
        "  doc = X_test_text[i]\n",
        "  doc_preprocessed = spacy_process(doc)\n",
        "  pipe_test_set.append(doc_preprocessed)"
      ],
      "execution_count": null,
      "outputs": []
    },
    {
      "cell_type": "code",
      "metadata": {
        "colab": {
          "base_uri": "https://localhost:8080/",
          "height": 37
        },
        "id": "a2_RxGVhQYrx",
        "outputId": "9d1a551d-d6f0-46b1-b5f5-e0b506887b04"
      },
      "source": [
        "pipe_training_set[3]"
      ],
      "execution_count": null,
      "outputs": [
        {
          "data": {
            "application/vnd.google.colaboratory.intrinsic+json": {
              "type": "string"
            },
            "text/plain": [
              "'guy tell -PRON- -PRON- use social medium -PRON- head'"
            ]
          },
          "execution_count": 45,
          "metadata": {},
          "output_type": "execute_result"
        }
      ]
    },
    {
      "cell_type": "markdown",
      "metadata": {
        "id": "0oR8FL16BaO-"
      },
      "source": [
        "Create new Data Frames with preprocessed data\n",
        "\n",
        "Comment, Subreddit, Label"
      ]
    },
    {
      "cell_type": "code",
      "metadata": {
        "id": "_oVUP0y71T8L"
      },
      "source": [
        "data = []\n",
        "for i in range(0, len(pipe_training_set)):\n",
        "\n",
        "  c = pipe_training_set[i]\n",
        "  s = X_train['subreddit'].iloc[i]\n",
        "  l = X_train['label'].iloc[i]\n",
        "\n",
        "  data.append((c,s,l))"
      ],
      "execution_count": null,
      "outputs": []
    },
    {
      "cell_type": "code",
      "metadata": {
        "id": "F8NtzpRWKHXl"
      },
      "source": [
        "X_preprocessed_train = pd.DataFrame(data, columns = ['comment', 'subreddit', 'label'])"
      ],
      "execution_count": null,
      "outputs": []
    },
    {
      "cell_type": "code",
      "metadata": {
        "colab": {
          "base_uri": "https://localhost:8080/",
          "height": 204
        },
        "id": "3-l-J8PmKS5N",
        "outputId": "b2cf8e5f-21c4-4bcf-9989-fba90df4d485"
      },
      "source": [
        "X_preprocessed_train.head()"
      ],
      "execution_count": null,
      "outputs": [
        {
          "data": {
            "text/html": [
              "<div>\n",
              "<style scoped>\n",
              "    .dataframe tbody tr th:only-of-type {\n",
              "        vertical-align: middle;\n",
              "    }\n",
              "\n",
              "    .dataframe tbody tr th {\n",
              "        vertical-align: top;\n",
              "    }\n",
              "\n",
              "    .dataframe thead th {\n",
              "        text-align: right;\n",
              "    }\n",
              "</style>\n",
              "<table border=\"1\" class=\"dataframe\">\n",
              "  <thead>\n",
              "    <tr style=\"text-align: right;\">\n",
              "      <th></th>\n",
              "      <th>comment</th>\n",
              "      <th>subreddit</th>\n",
              "      <th>label</th>\n",
              "    </tr>\n",
              "  </thead>\n",
              "  <tbody>\n",
              "    <tr>\n",
              "      <th>0</th>\n",
              "      <td>Jesus -PRON- live</td>\n",
              "      <td>AdviceAnimals</td>\n",
              "      <td>0</td>\n",
              "    </tr>\n",
              "    <tr>\n",
              "      <th>1</th>\n",
              "      <td>CNN Staff Sick Wall - - Wall Trump Coverage</td>\n",
              "      <td>POLITIC</td>\n",
              "      <td>0</td>\n",
              "    </tr>\n",
              "    <tr>\n",
              "      <th>2</th>\n",
              "      <td>agree -PRON- mean gujrat husband good suspect ...</td>\n",
              "      <td>india</td>\n",
              "      <td>0</td>\n",
              "    </tr>\n",
              "    <tr>\n",
              "      <th>3</th>\n",
              "      <td>guy tell -PRON- -PRON- use social medium -PRON...</td>\n",
              "      <td>AskWomen</td>\n",
              "      <td>0</td>\n",
              "    </tr>\n",
              "    <tr>\n",
              "      <th>4</th>\n",
              "      <td>2011 BMW Z4 GT3</td>\n",
              "      <td>carporn</td>\n",
              "      <td>1</td>\n",
              "    </tr>\n",
              "  </tbody>\n",
              "</table>\n",
              "</div>"
            ],
            "text/plain": [
              "                                             comment      subreddit  label\n",
              "0                                  Jesus -PRON- live  AdviceAnimals      0\n",
              "1        CNN Staff Sick Wall - - Wall Trump Coverage        POLITIC      0\n",
              "2  agree -PRON- mean gujrat husband good suspect ...          india      0\n",
              "3  guy tell -PRON- -PRON- use social medium -PRON...       AskWomen      0\n",
              "4                                    2011 BMW Z4 GT3        carporn      1"
            ]
          },
          "execution_count": 48,
          "metadata": {},
          "output_type": "execute_result"
        }
      ]
    },
    {
      "cell_type": "code",
      "metadata": {
        "id": "kFOO7BqXKZ8s"
      },
      "source": [
        "X_preprocessed_train.to_csv('train_reddit.csv', index= None)"
      ],
      "execution_count": null,
      "outputs": []
    },
    {
      "cell_type": "code",
      "metadata": {
        "id": "WHKDePwHKdxz"
      },
      "source": [
        "data = []\n",
        "for i in range(0, len(pipe_test_set)):\n",
        "\n",
        "  c = pipe_test_set[i]\n",
        "  s = X_test['subreddit'].iloc[i]\n",
        "  l = X_test['label'].iloc[i]\n",
        "\n",
        "  data.append((c,s,l))"
      ],
      "execution_count": null,
      "outputs": []
    },
    {
      "cell_type": "code",
      "metadata": {
        "id": "BMY4019lKmji"
      },
      "source": [
        "X_preprocessed_test = pd.DataFrame(data, columns = ['comment', 'subreddit', 'label'])"
      ],
      "execution_count": null,
      "outputs": []
    },
    {
      "cell_type": "code",
      "metadata": {
        "id": "JAUdFQosKp60"
      },
      "source": [
        "X_preprocessed_test.to_csv('test_reddit.csv', index= None)"
      ],
      "execution_count": null,
      "outputs": []
    },
    {
      "cell_type": "markdown",
      "metadata": {
        "id": "jkRDapQzKtvW"
      },
      "source": [
        "Delete the lower part"
      ]
    },
    {
      "cell_type": "code",
      "metadata": {
        "id": "BO34rHWLBhno"
      },
      "source": [
        "train_temp = pd.DataFrame(pipe_training_set)"
      ],
      "execution_count": null,
      "outputs": []
    },
    {
      "cell_type": "code",
      "metadata": {
        "id": "DHoXsGVTMBio"
      },
      "source": [
        "test_temp = pd.DataFrame(pipe_test_set)"
      ],
      "execution_count": null,
      "outputs": []
    },
    {
      "cell_type": "code",
      "metadata": {
        "id": "zhRKkcIlMK6R"
      },
      "source": [
        "X_preprocessed_train = pd.concat([train_temp, \n",
        "                                            X_train['subreddit'], \n",
        "                                            X_train['label']], axis=1)"
      ],
      "execution_count": null,
      "outputs": []
    },
    {
      "cell_type": "code",
      "metadata": {
        "id": "00dkBJzxMlhc"
      },
      "source": [
        "X_preprocessed_test = pd.concat([test_temp, \n",
        "                                            X_test['subreddit'], \n",
        "                                            X_test['label']], axis=1)"
      ],
      "execution_count": null,
      "outputs": []
    },
    {
      "cell_type": "code",
      "metadata": {
        "colab": {
          "base_uri": "https://localhost:8080/",
          "height": 204
        },
        "id": "kJ5zCxlINP2d",
        "outputId": "b0484ae7-5fc5-4138-af40-b4d067396260"
      },
      "source": [
        "X_preprocessed_train.head()"
      ],
      "execution_count": null,
      "outputs": [
        {
          "data": {
            "text/html": [
              "<div>\n",
              "<style scoped>\n",
              "    .dataframe tbody tr th:only-of-type {\n",
              "        vertical-align: middle;\n",
              "    }\n",
              "\n",
              "    .dataframe tbody tr th {\n",
              "        vertical-align: top;\n",
              "    }\n",
              "\n",
              "    .dataframe thead th {\n",
              "        text-align: right;\n",
              "    }\n",
              "</style>\n",
              "<table border=\"1\" class=\"dataframe\">\n",
              "  <thead>\n",
              "    <tr style=\"text-align: right;\">\n",
              "      <th></th>\n",
              "      <th>0</th>\n",
              "      <th>subreddit</th>\n",
              "      <th>label</th>\n",
              "    </tr>\n",
              "  </thead>\n",
              "  <tbody>\n",
              "    <tr>\n",
              "      <th>0</th>\n",
              "      <td>jesus live</td>\n",
              "      <td>politics</td>\n",
              "      <td>0.0</td>\n",
              "    </tr>\n",
              "    <tr>\n",
              "      <th>1</th>\n",
              "      <td>even the cnn staff is sick of the trump coverage</td>\n",
              "      <td>nba</td>\n",
              "      <td>0.0</td>\n",
              "    </tr>\n",
              "    <tr>\n",
              "      <th>2</th>\n",
              "      <td>agree also mean gujrat husbands good suspectin...</td>\n",
              "      <td>nfl</td>\n",
              "      <td>0.0</td>\n",
              "    </tr>\n",
              "    <tr>\n",
              "      <th>3</th>\n",
              "      <td>if guy told use social media goes head</td>\n",
              "      <td>BlackPeopleTwitter</td>\n",
              "      <td>0.0</td>\n",
              "    </tr>\n",
              "    <tr>\n",
              "      <th>4</th>\n",
              "      <td>bmw</td>\n",
              "      <td>MaddenUltimateTeam</td>\n",
              "      <td>0.0</td>\n",
              "    </tr>\n",
              "  </tbody>\n",
              "</table>\n",
              "</div>"
            ],
            "text/plain": [
              "                                                   0           subreddit  label\n",
              "0                                         jesus live            politics    0.0\n",
              "1   even the cnn staff is sick of the trump coverage                 nba    0.0\n",
              "2  agree also mean gujrat husbands good suspectin...                 nfl    0.0\n",
              "3             if guy told use social media goes head  BlackPeopleTwitter    0.0\n",
              "4                                                bmw  MaddenUltimateTeam    0.0"
            ]
          },
          "execution_count": 27,
          "metadata": {},
          "output_type": "execute_result"
        }
      ]
    },
    {
      "cell_type": "code",
      "metadata": {
        "id": "K5kxX1kSNROf"
      },
      "source": [
        "X_preprocessed_train.to_csv('train_reddit.csv', index= None)"
      ],
      "execution_count": null,
      "outputs": []
    },
    {
      "cell_type": "code",
      "metadata": {
        "id": "L1LEnlTnNaUu"
      },
      "source": [
        "X_preprocessed_test.to_csv('test_reddit.csv', index= None)"
      ],
      "execution_count": null,
      "outputs": []
    },
    {
      "cell_type": "code",
      "metadata": {
        "id": "ys2DPYAuNghy"
      },
      "source": [
        "d = pd.read_csv('/content/train_reddit.csv')"
      ],
      "execution_count": null,
      "outputs": []
    },
    {
      "cell_type": "code",
      "metadata": {
        "colab": {
          "base_uri": "https://localhost:8080/",
          "height": 204
        },
        "id": "SAtrpKPxNlDz",
        "outputId": "0fc27d8d-1221-470f-e8ad-5f88c2a39cbc"
      },
      "source": [
        "d.head()"
      ],
      "execution_count": null,
      "outputs": [
        {
          "data": {
            "text/html": [
              "<div>\n",
              "<style scoped>\n",
              "    .dataframe tbody tr th:only-of-type {\n",
              "        vertical-align: middle;\n",
              "    }\n",
              "\n",
              "    .dataframe tbody tr th {\n",
              "        vertical-align: top;\n",
              "    }\n",
              "\n",
              "    .dataframe thead th {\n",
              "        text-align: right;\n",
              "    }\n",
              "</style>\n",
              "<table border=\"1\" class=\"dataframe\">\n",
              "  <thead>\n",
              "    <tr style=\"text-align: right;\">\n",
              "      <th></th>\n",
              "      <th>0</th>\n",
              "      <th>subreddit</th>\n",
              "      <th>label</th>\n",
              "    </tr>\n",
              "  </thead>\n",
              "  <tbody>\n",
              "    <tr>\n",
              "      <th>0</th>\n",
              "      <td>jesus live</td>\n",
              "      <td>politics</td>\n",
              "      <td>0.0</td>\n",
              "    </tr>\n",
              "    <tr>\n",
              "      <th>1</th>\n",
              "      <td>even the cnn staff is sick of the trump coverage</td>\n",
              "      <td>nba</td>\n",
              "      <td>0.0</td>\n",
              "    </tr>\n",
              "    <tr>\n",
              "      <th>2</th>\n",
              "      <td>agree also mean gujrat husbands good suspectin...</td>\n",
              "      <td>nfl</td>\n",
              "      <td>0.0</td>\n",
              "    </tr>\n",
              "    <tr>\n",
              "      <th>3</th>\n",
              "      <td>if guy told use social media goes head</td>\n",
              "      <td>BlackPeopleTwitter</td>\n",
              "      <td>0.0</td>\n",
              "    </tr>\n",
              "    <tr>\n",
              "      <th>4</th>\n",
              "      <td>bmw</td>\n",
              "      <td>MaddenUltimateTeam</td>\n",
              "      <td>0.0</td>\n",
              "    </tr>\n",
              "  </tbody>\n",
              "</table>\n",
              "</div>"
            ],
            "text/plain": [
              "                                                   0           subreddit  label\n",
              "0                                         jesus live            politics    0.0\n",
              "1   even the cnn staff is sick of the trump coverage                 nba    0.0\n",
              "2  agree also mean gujrat husbands good suspectin...                 nfl    0.0\n",
              "3             if guy told use social media goes head  BlackPeopleTwitter    0.0\n",
              "4                                                bmw  MaddenUltimateTeam    0.0"
            ]
          },
          "execution_count": 31,
          "metadata": {},
          "output_type": "execute_result"
        }
      ]
    },
    {
      "cell_type": "code",
      "metadata": {
        "id": "o0TxRKCsNl-q"
      },
      "source": [
        "from sklearn.metrics.pairwise import euclidean_distances"
      ],
      "execution_count": null,
      "outputs": []
    }
  ]
}